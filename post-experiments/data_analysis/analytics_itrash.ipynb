{
 "cells": [
  {
   "cell_type": "code",
   "execution_count": 144,
   "metadata": {},
   "outputs": [],
   "source": [
    "import os\n",
    "import pandas as pd\n",
    "from pymongo import MongoClient\n",
    "from utils import decode  # Ensure you have your decode function imported\n",
    "images = []\n",
    "\n",
    "# Connect to MongoDB\n",
    "mongo_connection_string = os.getenv(\"MONGO_CONNECTION_STRING\")\n",
    "mongo_db_name = os.getenv(\"MONGO_DB_NAME\")\n",
    "mongo_collection_name = os.getenv(\"MONGO_COLLECTION_NAME\")\n",
    "\n",
    "# Connect to MongoDB\n",
    "client = MongoClient(mongo_connection_string)\n",
    "db = client[mongo_db_name]\n",
    "collection = db[mongo_collection_name]\n",
    "\n",
    "# Retrieve all the images from the database\n",
    "cursor = collection.find({})\n",
    "for document in cursor:\n",
    "    images.append(document)\n",
    "\n",
    "\n",
    "\n",
    "#create df\n",
    "df = pd.DataFrame(images)\n",
    "df.to_csv('itrash_data.csv', index=False) # you can find the dataset in raw_data"
   ]
  },
  {
   "cell_type": "code",
   "execution_count": 1,
   "metadata": {},
   "outputs": [
    {
     "data": {
      "text/html": [
       "<div>\n",
       "<style scoped>\n",
       "    .dataframe tbody tr th:only-of-type {\n",
       "        vertical-align: middle;\n",
       "    }\n",
       "\n",
       "    .dataframe tbody tr th {\n",
       "        vertical-align: top;\n",
       "    }\n",
       "\n",
       "    .dataframe thead th {\n",
       "        text-align: right;\n",
       "    }\n",
       "</style>\n",
       "<table border=\"1\" class=\"dataframe\">\n",
       "  <thead>\n",
       "    <tr style=\"text-align: right;\">\n",
       "      <th></th>\n",
       "      <th>_id</th>\n",
       "      <th>image</th>\n",
       "      <th>date</th>\n",
       "      <th>time</th>\n",
       "      <th>predicted</th>\n",
       "      <th>real</th>\n",
       "      <th>person_thrown</th>\n",
       "      <th>qr_scanned</th>\n",
       "    </tr>\n",
       "  </thead>\n",
       "  <tbody>\n",
       "    <tr>\n",
       "      <th>0</th>\n",
       "      <td>66e145253120393632f689b4</td>\n",
       "      <td>iVBORw0KGgoAAAANSUhEUgAAAoAAAAHgCAIAAAC6s0uzAA...</td>\n",
       "      <td>2024-09-11</td>\n",
       "      <td>09:21:50</td>\n",
       "      <td>yellow</td>\n",
       "      <td>yellow</td>\n",
       "      <td>yellow</td>\n",
       "      <td>0</td>\n",
       "    </tr>\n",
       "    <tr>\n",
       "      <th>1</th>\n",
       "      <td>66e14bdf3120393632f689b5</td>\n",
       "      <td>iVBORw0KGgoAAAANSUhEUgAAAoAAAAHgCAIAAAC6s0uzAA...</td>\n",
       "      <td>2024-09-11</td>\n",
       "      <td>09:50:41</td>\n",
       "      <td>brown</td>\n",
       "      <td>blue</td>\n",
       "      <td>brown</td>\n",
       "      <td>0</td>\n",
       "    </tr>\n",
       "    <tr>\n",
       "      <th>2</th>\n",
       "      <td>66e14bfd3120393632f689b6</td>\n",
       "      <td>iVBORw0KGgoAAAANSUhEUgAAAoAAAAHgCAIAAAC6s0uzAA...</td>\n",
       "      <td>2024-09-11</td>\n",
       "      <td>09:51:02</td>\n",
       "      <td>blue</td>\n",
       "      <td>blue</td>\n",
       "      <td>blue</td>\n",
       "      <td>0</td>\n",
       "    </tr>\n",
       "    <tr>\n",
       "      <th>3</th>\n",
       "      <td>66e14c1f3120393632f689b7</td>\n",
       "      <td>iVBORw0KGgoAAAANSUhEUgAAAoAAAAHgCAIAAAC6s0uzAA...</td>\n",
       "      <td>2024-09-11</td>\n",
       "      <td>09:51:37</td>\n",
       "      <td>blue</td>\n",
       "      <td>blue</td>\n",
       "      <td>blue</td>\n",
       "      <td>0</td>\n",
       "    </tr>\n",
       "    <tr>\n",
       "      <th>4</th>\n",
       "      <td>66e153673120393632f689b8</td>\n",
       "      <td>iVBORw0KGgoAAAANSUhEUgAAAoAAAAHgCAIAAAC6s0uzAA...</td>\n",
       "      <td>2024-09-11</td>\n",
       "      <td>10:22:39</td>\n",
       "      <td>blue</td>\n",
       "      <td>blue</td>\n",
       "      <td>blue</td>\n",
       "      <td>0</td>\n",
       "    </tr>\n",
       "  </tbody>\n",
       "</table>\n",
       "</div>"
      ],
      "text/plain": [
       "                        _id  \\\n",
       "0  66e145253120393632f689b4   \n",
       "1  66e14bdf3120393632f689b5   \n",
       "2  66e14bfd3120393632f689b6   \n",
       "3  66e14c1f3120393632f689b7   \n",
       "4  66e153673120393632f689b8   \n",
       "\n",
       "                                               image        date      time  \\\n",
       "0  iVBORw0KGgoAAAANSUhEUgAAAoAAAAHgCAIAAAC6s0uzAA...  2024-09-11  09:21:50   \n",
       "1  iVBORw0KGgoAAAANSUhEUgAAAoAAAAHgCAIAAAC6s0uzAA...  2024-09-11  09:50:41   \n",
       "2  iVBORw0KGgoAAAANSUhEUgAAAoAAAAHgCAIAAAC6s0uzAA...  2024-09-11  09:51:02   \n",
       "3  iVBORw0KGgoAAAANSUhEUgAAAoAAAAHgCAIAAAC6s0uzAA...  2024-09-11  09:51:37   \n",
       "4  iVBORw0KGgoAAAANSUhEUgAAAoAAAAHgCAIAAAC6s0uzAA...  2024-09-11  10:22:39   \n",
       "\n",
       "  predicted    real person_thrown  qr_scanned  \n",
       "0    yellow  yellow        yellow           0  \n",
       "1     brown    blue         brown           0  \n",
       "2      blue    blue          blue           0  \n",
       "3      blue    blue          blue           0  \n",
       "4      blue    blue          blue           0  "
      ]
     },
     "execution_count": 1,
     "metadata": {},
     "output_type": "execute_result"
    }
   ],
   "source": [
    "import pandas as pd\n",
    "df = pd.read_csv('itrash_data.csv')\n",
    "df.head()"
   ]
  },
  {
   "cell_type": "code",
   "execution_count": 2,
   "metadata": {},
   "outputs": [
    {
     "data": {
      "text/html": [
       "<div>\n",
       "<style scoped>\n",
       "    .dataframe tbody tr th:only-of-type {\n",
       "        vertical-align: middle;\n",
       "    }\n",
       "\n",
       "    .dataframe tbody tr th {\n",
       "        vertical-align: top;\n",
       "    }\n",
       "\n",
       "    .dataframe thead th {\n",
       "        text-align: right;\n",
       "    }\n",
       "</style>\n",
       "<table border=\"1\" class=\"dataframe\">\n",
       "  <thead>\n",
       "    <tr style=\"text-align: right;\">\n",
       "      <th></th>\n",
       "      <th>_id</th>\n",
       "      <th>image</th>\n",
       "      <th>date</th>\n",
       "      <th>time</th>\n",
       "      <th>predicted</th>\n",
       "      <th>real</th>\n",
       "      <th>person_thrown</th>\n",
       "      <th>qr_scanned</th>\n",
       "    </tr>\n",
       "  </thead>\n",
       "  <tbody>\n",
       "    <tr>\n",
       "      <th>0</th>\n",
       "      <td>66e145253120393632f689b4</td>\n",
       "      <td>iVBORw0KGgoAAAANSUhEUgAAAoAAAAHgCAIAAAC6s0uzAA...</td>\n",
       "      <td>2024-09-11</td>\n",
       "      <td>09:21:50</td>\n",
       "      <td>yellow</td>\n",
       "      <td>yellow</td>\n",
       "      <td>yellow</td>\n",
       "      <td>0</td>\n",
       "    </tr>\n",
       "    <tr>\n",
       "      <th>1</th>\n",
       "      <td>66e14bdf3120393632f689b5</td>\n",
       "      <td>iVBORw0KGgoAAAANSUhEUgAAAoAAAAHgCAIAAAC6s0uzAA...</td>\n",
       "      <td>2024-09-11</td>\n",
       "      <td>09:50:41</td>\n",
       "      <td>brown</td>\n",
       "      <td>blue</td>\n",
       "      <td>brown</td>\n",
       "      <td>0</td>\n",
       "    </tr>\n",
       "    <tr>\n",
       "      <th>2</th>\n",
       "      <td>66e14bfd3120393632f689b6</td>\n",
       "      <td>iVBORw0KGgoAAAANSUhEUgAAAoAAAAHgCAIAAAC6s0uzAA...</td>\n",
       "      <td>2024-09-11</td>\n",
       "      <td>09:51:02</td>\n",
       "      <td>blue</td>\n",
       "      <td>blue</td>\n",
       "      <td>blue</td>\n",
       "      <td>0</td>\n",
       "    </tr>\n",
       "    <tr>\n",
       "      <th>3</th>\n",
       "      <td>66e14c1f3120393632f689b7</td>\n",
       "      <td>iVBORw0KGgoAAAANSUhEUgAAAoAAAAHgCAIAAAC6s0uzAA...</td>\n",
       "      <td>2024-09-11</td>\n",
       "      <td>09:51:37</td>\n",
       "      <td>blue</td>\n",
       "      <td>blue</td>\n",
       "      <td>blue</td>\n",
       "      <td>0</td>\n",
       "    </tr>\n",
       "    <tr>\n",
       "      <th>4</th>\n",
       "      <td>66e153673120393632f689b8</td>\n",
       "      <td>iVBORw0KGgoAAAANSUhEUgAAAoAAAAHgCAIAAAC6s0uzAA...</td>\n",
       "      <td>2024-09-11</td>\n",
       "      <td>10:22:39</td>\n",
       "      <td>blue</td>\n",
       "      <td>blue</td>\n",
       "      <td>blue</td>\n",
       "      <td>0</td>\n",
       "    </tr>\n",
       "  </tbody>\n",
       "</table>\n",
       "</div>"
      ],
      "text/plain": [
       "                        _id  \\\n",
       "0  66e145253120393632f689b4   \n",
       "1  66e14bdf3120393632f689b5   \n",
       "2  66e14bfd3120393632f689b6   \n",
       "3  66e14c1f3120393632f689b7   \n",
       "4  66e153673120393632f689b8   \n",
       "\n",
       "                                               image       date      time  \\\n",
       "0  iVBORw0KGgoAAAANSUhEUgAAAoAAAAHgCAIAAAC6s0uzAA... 2024-09-11  09:21:50   \n",
       "1  iVBORw0KGgoAAAANSUhEUgAAAoAAAAHgCAIAAAC6s0uzAA... 2024-09-11  09:50:41   \n",
       "2  iVBORw0KGgoAAAANSUhEUgAAAoAAAAHgCAIAAAC6s0uzAA... 2024-09-11  09:51:02   \n",
       "3  iVBORw0KGgoAAAANSUhEUgAAAoAAAAHgCAIAAAC6s0uzAA... 2024-09-11  09:51:37   \n",
       "4  iVBORw0KGgoAAAANSUhEUgAAAoAAAAHgCAIAAAC6s0uzAA... 2024-09-11  10:22:39   \n",
       "\n",
       "  predicted    real person_thrown  qr_scanned  \n",
       "0    yellow  yellow        yellow           0  \n",
       "1     brown    blue         brown           0  \n",
       "2      blue    blue          blue           0  \n",
       "3      blue    blue          blue           0  \n",
       "4      blue    blue          blue           0  "
      ]
     },
     "execution_count": 2,
     "metadata": {},
     "output_type": "execute_result"
    }
   ],
   "source": [
    "#sort by date and if equal by time\n",
    "df['date'] = pd.to_datetime(df['date'])\n",
    "df = df.sort_values(by=['date', 'time'], ascending=[True, True])\n",
    "df.head()"
   ]
  },
  {
   "cell_type": "markdown",
   "metadata": {},
   "source": [
    "# Analysis by date"
   ]
  },
  {
   "cell_type": "code",
   "execution_count": 3,
   "metadata": {},
   "outputs": [],
   "source": [
    "# 2024-09-11 - day 1\n",
    "# 2024-09-12 - day 2\n",
    "# 2024-09-13 - day 3\n",
    "# 2024-09-16 - day 4\n",
    "# 2024-09-17 - day 5\n",
    "df_day1 = df[df['date'] == '2024-09-17']\n",
    "df_day2 = df[df['date'] == '2024-09-12']\n",
    "df_day3 = df[df['date'] == '2024-09-13']\n",
    "df_day4 = df[df['date'] == '2024-09-16']\n",
    "df_day5 = df[df['date'] == '2024-09-17']\n"
   ]
  },
  {
   "cell_type": "code",
   "execution_count": 4,
   "metadata": {},
   "outputs": [
    {
     "name": "stderr",
     "output_type": "stream",
     "text": [
      "/tmp/ipykernel_9179/3207468770.py:2: SettingWithCopyWarning: \n",
      "A value is trying to be set on a copy of a slice from a DataFrame.\n",
      "Try using .loc[row_indexer,col_indexer] = value instead\n",
      "\n",
      "See the caveats in the documentation: https://pandas.pydata.org/pandas-docs/stable/user_guide/indexing.html#returning-a-view-versus-a-copy\n",
      "  df_day1['day'] = 1\n",
      "/tmp/ipykernel_9179/3207468770.py:3: SettingWithCopyWarning: \n",
      "A value is trying to be set on a copy of a slice from a DataFrame.\n",
      "Try using .loc[row_indexer,col_indexer] = value instead\n",
      "\n",
      "See the caveats in the documentation: https://pandas.pydata.org/pandas-docs/stable/user_guide/indexing.html#returning-a-view-versus-a-copy\n",
      "  df_day2['day'] = 2\n",
      "/tmp/ipykernel_9179/3207468770.py:4: SettingWithCopyWarning: \n",
      "A value is trying to be set on a copy of a slice from a DataFrame.\n",
      "Try using .loc[row_indexer,col_indexer] = value instead\n",
      "\n",
      "See the caveats in the documentation: https://pandas.pydata.org/pandas-docs/stable/user_guide/indexing.html#returning-a-view-versus-a-copy\n",
      "  df_day3['day'] = 3\n",
      "/tmp/ipykernel_9179/3207468770.py:5: SettingWithCopyWarning: \n",
      "A value is trying to be set on a copy of a slice from a DataFrame.\n",
      "Try using .loc[row_indexer,col_indexer] = value instead\n",
      "\n",
      "See the caveats in the documentation: https://pandas.pydata.org/pandas-docs/stable/user_guide/indexing.html#returning-a-view-versus-a-copy\n",
      "  df_day4['day'] = 4\n",
      "/tmp/ipykernel_9179/3207468770.py:6: SettingWithCopyWarning: \n",
      "A value is trying to be set on a copy of a slice from a DataFrame.\n",
      "Try using .loc[row_indexer,col_indexer] = value instead\n",
      "\n",
      "See the caveats in the documentation: https://pandas.pydata.org/pandas-docs/stable/user_guide/indexing.html#returning-a-view-versus-a-copy\n",
      "  df_day5['day'] = 5\n"
     ]
    }
   ],
   "source": [
    "# create column called day and assign the day number to each dataframe\n",
    "df_day1['day'] = 1\n",
    "df_day2['day'] = 2\n",
    "df_day3['day'] = 3\n",
    "df_day4['day'] = 4\n",
    "df_day5['day'] = 5"
   ]
  },
  {
   "cell_type": "code",
   "execution_count": 5,
   "metadata": {},
   "outputs": [
    {
     "data": {
      "text/plain": [
       "Index(['_id', 'image', 'date', 'time', 'predicted', 'real', 'person_thrown',\n",
       "       'qr_scanned', 'day'],\n",
       "      dtype='object')"
      ]
     },
     "execution_count": 5,
     "metadata": {},
     "output_type": "execute_result"
    }
   ],
   "source": [
    "df_day1.columns"
   ]
  },
  {
   "cell_type": "code",
   "execution_count": 6,
   "metadata": {},
   "outputs": [
    {
     "data": {
      "text/html": [
       "<div>\n",
       "<style scoped>\n",
       "    .dataframe tbody tr th:only-of-type {\n",
       "        vertical-align: middle;\n",
       "    }\n",
       "\n",
       "    .dataframe tbody tr th {\n",
       "        vertical-align: top;\n",
       "    }\n",
       "\n",
       "    .dataframe thead th {\n",
       "        text-align: right;\n",
       "    }\n",
       "</style>\n",
       "<table border=\"1\" class=\"dataframe\">\n",
       "  <thead>\n",
       "    <tr style=\"text-align: right;\">\n",
       "      <th></th>\n",
       "      <th>time</th>\n",
       "      <th>predicted</th>\n",
       "      <th>real</th>\n",
       "      <th>person_thrown</th>\n",
       "      <th>qr_scanned</th>\n",
       "      <th>day</th>\n",
       "    </tr>\n",
       "  </thead>\n",
       "  <tbody>\n",
       "    <tr>\n",
       "      <th>0</th>\n",
       "      <td>08:21:04</td>\n",
       "      <td>yellow</td>\n",
       "      <td>yellow</td>\n",
       "      <td>NaN</td>\n",
       "      <td>0</td>\n",
       "      <td>1</td>\n",
       "    </tr>\n",
       "    <tr>\n",
       "      <th>1</th>\n",
       "      <td>08:48:05</td>\n",
       "      <td>blue</td>\n",
       "      <td>blue</td>\n",
       "      <td>blue</td>\n",
       "      <td>0</td>\n",
       "      <td>1</td>\n",
       "    </tr>\n",
       "    <tr>\n",
       "      <th>2</th>\n",
       "      <td>08:55:42</td>\n",
       "      <td>blue</td>\n",
       "      <td>blue</td>\n",
       "      <td>blue</td>\n",
       "      <td>0</td>\n",
       "      <td>1</td>\n",
       "    </tr>\n",
       "    <tr>\n",
       "      <th>3</th>\n",
       "      <td>10:46:05</td>\n",
       "      <td>yellow</td>\n",
       "      <td>yellow</td>\n",
       "      <td>NaN</td>\n",
       "      <td>0</td>\n",
       "      <td>1</td>\n",
       "    </tr>\n",
       "    <tr>\n",
       "      <th>4</th>\n",
       "      <td>12:28:06</td>\n",
       "      <td>brown</td>\n",
       "      <td>brown</td>\n",
       "      <td>brown</td>\n",
       "      <td>0</td>\n",
       "      <td>1</td>\n",
       "    </tr>\n",
       "  </tbody>\n",
       "</table>\n",
       "</div>"
      ],
      "text/plain": [
       "       time predicted    real person_thrown  qr_scanned  day\n",
       "0  08:21:04    yellow  yellow           NaN           0    1\n",
       "1  08:48:05      blue    blue          blue           0    1\n",
       "2  08:55:42      blue    blue          blue           0    1\n",
       "3  10:46:05    yellow  yellow           NaN           0    1\n",
       "4  12:28:06     brown   brown         brown           0    1"
      ]
     },
     "execution_count": 6,
     "metadata": {},
     "output_type": "execute_result"
    }
   ],
   "source": [
    "df = pd.concat([df_day1, df_day2, df_day3, df_day4, df_day5])\n",
    "df = df.reset_index(drop=True)\n",
    "# drop _id and image columns\n",
    "df = df.drop(columns=['_id', 'image', \"date\"])\n",
    "df.head()"
   ]
  },
  {
   "cell_type": "code",
   "execution_count": 7,
   "metadata": {},
   "outputs": [
    {
     "data": {
      "text/plain": [
       "(79, 6)"
      ]
     },
     "execution_count": 7,
     "metadata": {},
     "output_type": "execute_result"
    }
   ],
   "source": [
    "df.shape"
   ]
  },
  {
   "cell_type": "code",
   "execution_count": 8,
   "metadata": {},
   "outputs": [],
   "source": [
    "#df.to_csv('raw_itrash.csv', index=False)"
   ]
  },
  {
   "cell_type": "code",
   "execution_count": 9,
   "metadata": {},
   "outputs": [],
   "source": [
    "#sustitute nan with \"nonthrown\" in person_thrown\n",
    "df['person_thrown'] = df['person_thrown'].fillna(\"nonthrown\")\n",
    "df[\"predicted\"] = df[\"predicted\"].fillna(\"nonpredicted\")\n",
    "df[\"real\"] = df[\"real\"].fillna(\"nonclassified\")"
   ]
  },
  {
   "cell_type": "code",
   "execution_count": 10,
   "metadata": {},
   "outputs": [
    {
     "data": {
      "text/plain": [
       "np.float64(0.0)"
      ]
     },
     "execution_count": 10,
     "metadata": {},
     "output_type": "execute_result"
    }
   ],
   "source": [
    "# take the percentage of null in person_thrown\n",
    "df['person_thrown'].isnull().mean()"
   ]
  },
  {
   "cell_type": "code",
   "execution_count": 11,
   "metadata": {},
   "outputs": [
    {
     "data": {
      "text/html": [
       "<div>\n",
       "<style scoped>\n",
       "    .dataframe tbody tr th:only-of-type {\n",
       "        vertical-align: middle;\n",
       "    }\n",
       "\n",
       "    .dataframe tbody tr th {\n",
       "        vertical-align: top;\n",
       "    }\n",
       "\n",
       "    .dataframe thead th {\n",
       "        text-align: right;\n",
       "    }\n",
       "</style>\n",
       "<table border=\"1\" class=\"dataframe\">\n",
       "  <thead>\n",
       "    <tr style=\"text-align: right;\">\n",
       "      <th></th>\n",
       "      <th>time</th>\n",
       "      <th>predicted</th>\n",
       "      <th>real</th>\n",
       "      <th>person_thrown</th>\n",
       "      <th>qr_scanned</th>\n",
       "      <th>day</th>\n",
       "    </tr>\n",
       "  </thead>\n",
       "  <tbody>\n",
       "    <tr>\n",
       "      <th>1</th>\n",
       "      <td>08:48:05</td>\n",
       "      <td>blue</td>\n",
       "      <td>blue</td>\n",
       "      <td>blue</td>\n",
       "      <td>0</td>\n",
       "      <td>1</td>\n",
       "    </tr>\n",
       "    <tr>\n",
       "      <th>2</th>\n",
       "      <td>08:55:42</td>\n",
       "      <td>blue</td>\n",
       "      <td>blue</td>\n",
       "      <td>blue</td>\n",
       "      <td>0</td>\n",
       "      <td>1</td>\n",
       "    </tr>\n",
       "    <tr>\n",
       "      <th>4</th>\n",
       "      <td>12:28:06</td>\n",
       "      <td>brown</td>\n",
       "      <td>brown</td>\n",
       "      <td>brown</td>\n",
       "      <td>0</td>\n",
       "      <td>1</td>\n",
       "    </tr>\n",
       "    <tr>\n",
       "      <th>6</th>\n",
       "      <td>13:26:29</td>\n",
       "      <td>yellow</td>\n",
       "      <td>yellow</td>\n",
       "      <td>yellow</td>\n",
       "      <td>0</td>\n",
       "      <td>1</td>\n",
       "    </tr>\n",
       "    <tr>\n",
       "      <th>7</th>\n",
       "      <td>13:27:03</td>\n",
       "      <td>yellow</td>\n",
       "      <td>yellow</td>\n",
       "      <td>blue</td>\n",
       "      <td>0</td>\n",
       "      <td>1</td>\n",
       "    </tr>\n",
       "    <tr>\n",
       "      <th>...</th>\n",
       "      <td>...</td>\n",
       "      <td>...</td>\n",
       "      <td>...</td>\n",
       "      <td>...</td>\n",
       "      <td>...</td>\n",
       "      <td>...</td>\n",
       "    </tr>\n",
       "    <tr>\n",
       "      <th>74</th>\n",
       "      <td>13:27:03</td>\n",
       "      <td>yellow</td>\n",
       "      <td>yellow</td>\n",
       "      <td>blue</td>\n",
       "      <td>0</td>\n",
       "      <td>5</td>\n",
       "    </tr>\n",
       "    <tr>\n",
       "      <th>75</th>\n",
       "      <td>13:27:13</td>\n",
       "      <td>yellow</td>\n",
       "      <td>yellow</td>\n",
       "      <td>blue</td>\n",
       "      <td>0</td>\n",
       "      <td>5</td>\n",
       "    </tr>\n",
       "    <tr>\n",
       "      <th>76</th>\n",
       "      <td>13:27:24</td>\n",
       "      <td>yellow</td>\n",
       "      <td>yellow</td>\n",
       "      <td>yellow</td>\n",
       "      <td>0</td>\n",
       "      <td>5</td>\n",
       "    </tr>\n",
       "    <tr>\n",
       "      <th>77</th>\n",
       "      <td>15:19:12</td>\n",
       "      <td>brown</td>\n",
       "      <td>yellow</td>\n",
       "      <td>brown</td>\n",
       "      <td>0</td>\n",
       "      <td>5</td>\n",
       "    </tr>\n",
       "    <tr>\n",
       "      <th>78</th>\n",
       "      <td>15:43:34</td>\n",
       "      <td>brown</td>\n",
       "      <td>brown</td>\n",
       "      <td>brown</td>\n",
       "      <td>0</td>\n",
       "      <td>5</td>\n",
       "    </tr>\n",
       "  </tbody>\n",
       "</table>\n",
       "<p>67 rows × 6 columns</p>\n",
       "</div>"
      ],
      "text/plain": [
       "        time predicted    real person_thrown  qr_scanned  day\n",
       "1   08:48:05      blue    blue          blue           0    1\n",
       "2   08:55:42      blue    blue          blue           0    1\n",
       "4   12:28:06     brown   brown         brown           0    1\n",
       "6   13:26:29    yellow  yellow        yellow           0    1\n",
       "7   13:27:03    yellow  yellow          blue           0    1\n",
       "..       ...       ...     ...           ...         ...  ...\n",
       "74  13:27:03    yellow  yellow          blue           0    5\n",
       "75  13:27:13    yellow  yellow          blue           0    5\n",
       "76  13:27:24    yellow  yellow        yellow           0    5\n",
       "77  15:19:12     brown  yellow         brown           0    5\n",
       "78  15:43:34     brown   brown         brown           0    5\n",
       "\n",
       "[67 rows x 6 columns]"
      ]
     },
     "execution_count": 11,
     "metadata": {},
     "output_type": "execute_result"
    }
   ],
   "source": [
    "#take the rows where person_thrown is not null\n",
    "df_thrown = df[df['person_thrown'] != \"nonthrown\"]\n",
    "df_thrown\n"
   ]
  },
  {
   "cell_type": "code",
   "execution_count": 12,
   "metadata": {},
   "outputs": [
    {
     "name": "stderr",
     "output_type": "stream",
     "text": [
      "/tmp/ipykernel_9179/3787043675.py:2: SettingWithCopyWarning: \n",
      "A value is trying to be set on a copy of a slice from a DataFrame.\n",
      "Try using .loc[row_indexer,col_indexer] = value instead\n",
      "\n",
      "See the caveats in the documentation: https://pandas.pydata.org/pandas-docs/stable/user_guide/indexing.html#returning-a-view-versus-a-copy\n",
      "  df_thrown['thrown_real'] = df_thrown['person_thrown'] == df_thrown['real']\n",
      "/tmp/ipykernel_9179/3787043675.py:3: SettingWithCopyWarning: \n",
      "A value is trying to be set on a copy of a slice from a DataFrame.\n",
      "Try using .loc[row_indexer,col_indexer] = value instead\n",
      "\n",
      "See the caveats in the documentation: https://pandas.pydata.org/pandas-docs/stable/user_guide/indexing.html#returning-a-view-versus-a-copy\n",
      "  df_thrown['thrown_predited'] = df_thrown['person_thrown'] == df_thrown['predicted']\n",
      "/tmp/ipykernel_9179/3787043675.py:4: SettingWithCopyWarning: \n",
      "A value is trying to be set on a copy of a slice from a DataFrame.\n",
      "Try using .loc[row_indexer,col_indexer] = value instead\n",
      "\n",
      "See the caveats in the documentation: https://pandas.pydata.org/pandas-docs/stable/user_guide/indexing.html#returning-a-view-versus-a-copy\n",
      "  df_thrown['predicted_real'] = df_thrown['predicted'] == df_thrown['real']\n",
      "/tmp/ipykernel_9179/3787043675.py:6: SettingWithCopyWarning: \n",
      "A value is trying to be set on a copy of a slice from a DataFrame.\n",
      "Try using .loc[row_indexer,col_indexer] = value instead\n",
      "\n",
      "See the caveats in the documentation: https://pandas.pydata.org/pandas-docs/stable/user_guide/indexing.html#returning-a-view-versus-a-copy\n",
      "  df_thrown['thrown_real'] = df_thrown['thrown_real'].astype(int)\n",
      "/tmp/ipykernel_9179/3787043675.py:7: SettingWithCopyWarning: \n",
      "A value is trying to be set on a copy of a slice from a DataFrame.\n",
      "Try using .loc[row_indexer,col_indexer] = value instead\n",
      "\n",
      "See the caveats in the documentation: https://pandas.pydata.org/pandas-docs/stable/user_guide/indexing.html#returning-a-view-versus-a-copy\n",
      "  df_thrown['thrown_predited'] = df_thrown['thrown_predited'].astype(int)\n",
      "/tmp/ipykernel_9179/3787043675.py:8: SettingWithCopyWarning: \n",
      "A value is trying to be set on a copy of a slice from a DataFrame.\n",
      "Try using .loc[row_indexer,col_indexer] = value instead\n",
      "\n",
      "See the caveats in the documentation: https://pandas.pydata.org/pandas-docs/stable/user_guide/indexing.html#returning-a-view-versus-a-copy\n",
      "  df_thrown['predicted_real'] = df_thrown['predicted_real'].astype(int)\n"
     ]
    }
   ],
   "source": [
    "#create a new column which is 1 if person_thrown and real has the same string and 0 otherwise\n",
    "df_thrown['thrown_real'] = df_thrown['person_thrown'] == df_thrown['real']\n",
    "df_thrown['thrown_predited'] = df_thrown['person_thrown'] == df_thrown['predicted']\n",
    "df_thrown['predicted_real'] = df_thrown['predicted'] == df_thrown['real']\n",
    "# replace True with 1 and False with 0\n",
    "df_thrown['thrown_real'] = df_thrown['thrown_real'].astype(int)\n",
    "df_thrown['thrown_predited'] = df_thrown['thrown_predited'].astype(int)\n",
    "df_thrown['predicted_real'] = df_thrown['predicted_real'].astype(int)\n",
    "\n",
    "#df_thrown"
   ]
  },
  {
   "cell_type": "code",
   "execution_count": 13,
   "metadata": {},
   "outputs": [
    {
     "data": {
      "text/html": [
       "<div>\n",
       "<style scoped>\n",
       "    .dataframe tbody tr th:only-of-type {\n",
       "        vertical-align: middle;\n",
       "    }\n",
       "\n",
       "    .dataframe tbody tr th {\n",
       "        vertical-align: top;\n",
       "    }\n",
       "\n",
       "    .dataframe thead th {\n",
       "        text-align: right;\n",
       "    }\n",
       "</style>\n",
       "<table border=\"1\" class=\"dataframe\">\n",
       "  <thead>\n",
       "    <tr style=\"text-align: right;\">\n",
       "      <th></th>\n",
       "      <th>time</th>\n",
       "      <th>predicted</th>\n",
       "      <th>real</th>\n",
       "      <th>person_thrown</th>\n",
       "      <th>qr_scanned</th>\n",
       "      <th>day</th>\n",
       "      <th>thrown_real</th>\n",
       "      <th>thrown_predited</th>\n",
       "      <th>predicted_real</th>\n",
       "    </tr>\n",
       "  </thead>\n",
       "  <tbody>\n",
       "    <tr>\n",
       "      <th>1</th>\n",
       "      <td>08:48:05</td>\n",
       "      <td>blue</td>\n",
       "      <td>blue</td>\n",
       "      <td>blue</td>\n",
       "      <td>0</td>\n",
       "      <td>1</td>\n",
       "      <td>1</td>\n",
       "      <td>1</td>\n",
       "      <td>1</td>\n",
       "    </tr>\n",
       "    <tr>\n",
       "      <th>2</th>\n",
       "      <td>08:55:42</td>\n",
       "      <td>blue</td>\n",
       "      <td>blue</td>\n",
       "      <td>blue</td>\n",
       "      <td>0</td>\n",
       "      <td>1</td>\n",
       "      <td>1</td>\n",
       "      <td>1</td>\n",
       "      <td>1</td>\n",
       "    </tr>\n",
       "    <tr>\n",
       "      <th>4</th>\n",
       "      <td>12:28:06</td>\n",
       "      <td>brown</td>\n",
       "      <td>brown</td>\n",
       "      <td>brown</td>\n",
       "      <td>0</td>\n",
       "      <td>1</td>\n",
       "      <td>1</td>\n",
       "      <td>1</td>\n",
       "      <td>1</td>\n",
       "    </tr>\n",
       "    <tr>\n",
       "      <th>6</th>\n",
       "      <td>13:26:29</td>\n",
       "      <td>yellow</td>\n",
       "      <td>yellow</td>\n",
       "      <td>yellow</td>\n",
       "      <td>0</td>\n",
       "      <td>1</td>\n",
       "      <td>1</td>\n",
       "      <td>1</td>\n",
       "      <td>1</td>\n",
       "    </tr>\n",
       "    <tr>\n",
       "      <th>7</th>\n",
       "      <td>13:27:03</td>\n",
       "      <td>yellow</td>\n",
       "      <td>yellow</td>\n",
       "      <td>blue</td>\n",
       "      <td>0</td>\n",
       "      <td>1</td>\n",
       "      <td>0</td>\n",
       "      <td>0</td>\n",
       "      <td>1</td>\n",
       "    </tr>\n",
       "    <tr>\n",
       "      <th>...</th>\n",
       "      <td>...</td>\n",
       "      <td>...</td>\n",
       "      <td>...</td>\n",
       "      <td>...</td>\n",
       "      <td>...</td>\n",
       "      <td>...</td>\n",
       "      <td>...</td>\n",
       "      <td>...</td>\n",
       "      <td>...</td>\n",
       "    </tr>\n",
       "    <tr>\n",
       "      <th>74</th>\n",
       "      <td>13:27:03</td>\n",
       "      <td>yellow</td>\n",
       "      <td>yellow</td>\n",
       "      <td>blue</td>\n",
       "      <td>0</td>\n",
       "      <td>5</td>\n",
       "      <td>0</td>\n",
       "      <td>0</td>\n",
       "      <td>1</td>\n",
       "    </tr>\n",
       "    <tr>\n",
       "      <th>75</th>\n",
       "      <td>13:27:13</td>\n",
       "      <td>yellow</td>\n",
       "      <td>yellow</td>\n",
       "      <td>blue</td>\n",
       "      <td>0</td>\n",
       "      <td>5</td>\n",
       "      <td>0</td>\n",
       "      <td>0</td>\n",
       "      <td>1</td>\n",
       "    </tr>\n",
       "    <tr>\n",
       "      <th>76</th>\n",
       "      <td>13:27:24</td>\n",
       "      <td>yellow</td>\n",
       "      <td>yellow</td>\n",
       "      <td>yellow</td>\n",
       "      <td>0</td>\n",
       "      <td>5</td>\n",
       "      <td>1</td>\n",
       "      <td>1</td>\n",
       "      <td>1</td>\n",
       "    </tr>\n",
       "    <tr>\n",
       "      <th>77</th>\n",
       "      <td>15:19:12</td>\n",
       "      <td>brown</td>\n",
       "      <td>yellow</td>\n",
       "      <td>brown</td>\n",
       "      <td>0</td>\n",
       "      <td>5</td>\n",
       "      <td>0</td>\n",
       "      <td>1</td>\n",
       "      <td>0</td>\n",
       "    </tr>\n",
       "    <tr>\n",
       "      <th>78</th>\n",
       "      <td>15:43:34</td>\n",
       "      <td>brown</td>\n",
       "      <td>brown</td>\n",
       "      <td>brown</td>\n",
       "      <td>0</td>\n",
       "      <td>5</td>\n",
       "      <td>1</td>\n",
       "      <td>1</td>\n",
       "      <td>1</td>\n",
       "    </tr>\n",
       "  </tbody>\n",
       "</table>\n",
       "<p>67 rows × 9 columns</p>\n",
       "</div>"
      ],
      "text/plain": [
       "        time predicted    real person_thrown  qr_scanned  day  thrown_real  \\\n",
       "1   08:48:05      blue    blue          blue           0    1            1   \n",
       "2   08:55:42      blue    blue          blue           0    1            1   \n",
       "4   12:28:06     brown   brown         brown           0    1            1   \n",
       "6   13:26:29    yellow  yellow        yellow           0    1            1   \n",
       "7   13:27:03    yellow  yellow          blue           0    1            0   \n",
       "..       ...       ...     ...           ...         ...  ...          ...   \n",
       "74  13:27:03    yellow  yellow          blue           0    5            0   \n",
       "75  13:27:13    yellow  yellow          blue           0    5            0   \n",
       "76  13:27:24    yellow  yellow        yellow           0    5            1   \n",
       "77  15:19:12     brown  yellow         brown           0    5            0   \n",
       "78  15:43:34     brown   brown         brown           0    5            1   \n",
       "\n",
       "    thrown_predited  predicted_real  \n",
       "1                 1               1  \n",
       "2                 1               1  \n",
       "4                 1               1  \n",
       "6                 1               1  \n",
       "7                 0               1  \n",
       "..              ...             ...  \n",
       "74                0               1  \n",
       "75                0               1  \n",
       "76                1               1  \n",
       "77                1               0  \n",
       "78                1               1  \n",
       "\n",
       "[67 rows x 9 columns]"
      ]
     },
     "execution_count": 13,
     "metadata": {},
     "output_type": "execute_result"
    }
   ],
   "source": [
    "df_thrown"
   ]
  },
  {
   "cell_type": "code",
   "execution_count": 14,
   "metadata": {},
   "outputs": [
    {
     "data": {
      "text/plain": [
       "real\n",
       "yellow    36\n",
       "blue      17\n",
       "brown     14\n",
       "Name: count, dtype: int64"
      ]
     },
     "execution_count": 14,
     "metadata": {},
     "output_type": "execute_result"
    }
   ],
   "source": [
    "df_thrown[\"real\"].value_counts()"
   ]
  },
  {
   "cell_type": "code",
   "execution_count": 15,
   "metadata": {},
   "outputs": [
    {
     "data": {
      "text/plain": [
       "predicted\n",
       "yellow    32\n",
       "brown     21\n",
       "blue      14\n",
       "Name: count, dtype: int64"
      ]
     },
     "execution_count": 15,
     "metadata": {},
     "output_type": "execute_result"
    }
   ],
   "source": [
    "df_thrown[\"predicted\"].value_counts()"
   ]
  },
  {
   "cell_type": "code",
   "execution_count": 16,
   "metadata": {},
   "outputs": [
    {
     "data": {
      "text/html": [
       "<div>\n",
       "<style scoped>\n",
       "    .dataframe tbody tr th:only-of-type {\n",
       "        vertical-align: middle;\n",
       "    }\n",
       "\n",
       "    .dataframe tbody tr th {\n",
       "        vertical-align: top;\n",
       "    }\n",
       "\n",
       "    .dataframe thead th {\n",
       "        text-align: right;\n",
       "    }\n",
       "</style>\n",
       "<table border=\"1\" class=\"dataframe\">\n",
       "  <thead>\n",
       "    <tr style=\"text-align: right;\">\n",
       "      <th></th>\n",
       "      <th>time</th>\n",
       "      <th>predicted</th>\n",
       "      <th>real</th>\n",
       "      <th>person_thrown</th>\n",
       "      <th>qr_scanned</th>\n",
       "      <th>thrown_real</th>\n",
       "      <th>thrown_predited</th>\n",
       "      <th>predicted_real</th>\n",
       "    </tr>\n",
       "    <tr>\n",
       "      <th>day</th>\n",
       "      <th></th>\n",
       "      <th></th>\n",
       "      <th></th>\n",
       "      <th></th>\n",
       "      <th></th>\n",
       "      <th></th>\n",
       "      <th></th>\n",
       "      <th></th>\n",
       "    </tr>\n",
       "  </thead>\n",
       "  <tbody>\n",
       "    <tr>\n",
       "      <th>1</th>\n",
       "      <td>9</td>\n",
       "      <td>9</td>\n",
       "      <td>9</td>\n",
       "      <td>9</td>\n",
       "      <td>9</td>\n",
       "      <td>9</td>\n",
       "      <td>9</td>\n",
       "      <td>9</td>\n",
       "    </tr>\n",
       "    <tr>\n",
       "      <th>2</th>\n",
       "      <td>17</td>\n",
       "      <td>17</td>\n",
       "      <td>17</td>\n",
       "      <td>17</td>\n",
       "      <td>17</td>\n",
       "      <td>17</td>\n",
       "      <td>17</td>\n",
       "      <td>17</td>\n",
       "    </tr>\n",
       "    <tr>\n",
       "      <th>3</th>\n",
       "      <td>17</td>\n",
       "      <td>17</td>\n",
       "      <td>17</td>\n",
       "      <td>17</td>\n",
       "      <td>17</td>\n",
       "      <td>17</td>\n",
       "      <td>17</td>\n",
       "      <td>17</td>\n",
       "    </tr>\n",
       "    <tr>\n",
       "      <th>4</th>\n",
       "      <td>15</td>\n",
       "      <td>15</td>\n",
       "      <td>15</td>\n",
       "      <td>15</td>\n",
       "      <td>15</td>\n",
       "      <td>15</td>\n",
       "      <td>15</td>\n",
       "      <td>15</td>\n",
       "    </tr>\n",
       "    <tr>\n",
       "      <th>5</th>\n",
       "      <td>9</td>\n",
       "      <td>9</td>\n",
       "      <td>9</td>\n",
       "      <td>9</td>\n",
       "      <td>9</td>\n",
       "      <td>9</td>\n",
       "      <td>9</td>\n",
       "      <td>9</td>\n",
       "    </tr>\n",
       "  </tbody>\n",
       "</table>\n",
       "</div>"
      ],
      "text/plain": [
       "     time  predicted  real  person_thrown  qr_scanned  thrown_real  \\\n",
       "day                                                                  \n",
       "1       9          9     9              9           9            9   \n",
       "2      17         17    17             17          17           17   \n",
       "3      17         17    17             17          17           17   \n",
       "4      15         15    15             15          15           15   \n",
       "5       9          9     9              9           9            9   \n",
       "\n",
       "     thrown_predited  predicted_real  \n",
       "day                                   \n",
       "1                  9               9  \n",
       "2                 17              17  \n",
       "3                 17              17  \n",
       "4                 15              15  \n",
       "5                  9               9  "
      ]
     },
     "execution_count": 16,
     "metadata": {},
     "output_type": "execute_result"
    }
   ],
   "source": [
    "# groupby day and count rows\n",
    "df_thrown.groupby('day').count()"
   ]
  },
  {
   "cell_type": "code",
   "execution_count": 17,
   "metadata": {},
   "outputs": [
    {
     "data": {
      "text/html": [
       "<div>\n",
       "<style scoped>\n",
       "    .dataframe tbody tr th:only-of-type {\n",
       "        vertical-align: middle;\n",
       "    }\n",
       "\n",
       "    .dataframe tbody tr th {\n",
       "        vertical-align: top;\n",
       "    }\n",
       "\n",
       "    .dataframe thead th {\n",
       "        text-align: right;\n",
       "    }\n",
       "</style>\n",
       "<table border=\"1\" class=\"dataframe\">\n",
       "  <thead>\n",
       "    <tr style=\"text-align: right;\">\n",
       "      <th></th>\n",
       "      <th>thrown_real</th>\n",
       "      <th>thrown_predited</th>\n",
       "      <th>predicted_real</th>\n",
       "    </tr>\n",
       "    <tr>\n",
       "      <th>day</th>\n",
       "      <th></th>\n",
       "      <th></th>\n",
       "      <th></th>\n",
       "    </tr>\n",
       "  </thead>\n",
       "  <tbody>\n",
       "    <tr>\n",
       "      <th>1</th>\n",
       "      <td>0.666667</td>\n",
       "      <td>0.777778</td>\n",
       "      <td>0.888889</td>\n",
       "    </tr>\n",
       "    <tr>\n",
       "      <th>2</th>\n",
       "      <td>0.529412</td>\n",
       "      <td>0.705882</td>\n",
       "      <td>0.823529</td>\n",
       "    </tr>\n",
       "    <tr>\n",
       "      <th>3</th>\n",
       "      <td>0.823529</td>\n",
       "      <td>0.764706</td>\n",
       "      <td>0.705882</td>\n",
       "    </tr>\n",
       "    <tr>\n",
       "      <th>4</th>\n",
       "      <td>0.466667</td>\n",
       "      <td>0.466667</td>\n",
       "      <td>0.866667</td>\n",
       "    </tr>\n",
       "    <tr>\n",
       "      <th>5</th>\n",
       "      <td>0.666667</td>\n",
       "      <td>0.777778</td>\n",
       "      <td>0.888889</td>\n",
       "    </tr>\n",
       "  </tbody>\n",
       "</table>\n",
       "</div>"
      ],
      "text/plain": [
       "     thrown_real  thrown_predited  predicted_real\n",
       "day                                              \n",
       "1       0.666667         0.777778        0.888889\n",
       "2       0.529412         0.705882        0.823529\n",
       "3       0.823529         0.764706        0.705882\n",
       "4       0.466667         0.466667        0.866667\n",
       "5       0.666667         0.777778        0.888889"
      ]
     },
     "execution_count": 17,
     "metadata": {},
     "output_type": "execute_result"
    }
   ],
   "source": [
    "#groupby day and take the mean of thrown_real\n",
    "df_thrown[[\"day\", \"thrown_real\", 'thrown_predited', 'predicted_real'  ]].groupby('day').mean()"
   ]
  },
  {
   "cell_type": "code",
   "execution_count": 18,
   "metadata": {},
   "outputs": [
    {
     "data": {
      "text/plain": [
       "np.float64(0.6268656716417911)"
      ]
     },
     "execution_count": 18,
     "metadata": {},
     "output_type": "execute_result"
    }
   ],
   "source": [
    "#calculate ratio of correct predictions\n",
    "df_thrown['thrown_real'].mean()"
   ]
  },
  {
   "cell_type": "code",
   "execution_count": 19,
   "metadata": {},
   "outputs": [
    {
     "data": {
      "text/plain": [
       "np.float64(0.6865671641791045)"
      ]
     },
     "execution_count": 19,
     "metadata": {},
     "output_type": "execute_result"
    }
   ],
   "source": [
    "df_thrown['thrown_predited'].mean()"
   ]
  },
  {
   "cell_type": "code",
   "execution_count": 20,
   "metadata": {},
   "outputs": [
    {
     "data": {
      "text/plain": [
       "np.float64(0.8208955223880597)"
      ]
     },
     "execution_count": 20,
     "metadata": {},
     "output_type": "execute_result"
    }
   ],
   "source": [
    "df_thrown['predicted_real'].mean()"
   ]
  },
  {
   "cell_type": "code",
   "execution_count": 21,
   "metadata": {},
   "outputs": [
    {
     "data": {
      "text/html": [
       "<div>\n",
       "<style scoped>\n",
       "    .dataframe tbody tr th:only-of-type {\n",
       "        vertical-align: middle;\n",
       "    }\n",
       "\n",
       "    .dataframe tbody tr th {\n",
       "        vertical-align: top;\n",
       "    }\n",
       "\n",
       "    .dataframe thead th {\n",
       "        text-align: right;\n",
       "    }\n",
       "</style>\n",
       "<table border=\"1\" class=\"dataframe\">\n",
       "  <thead>\n",
       "    <tr style=\"text-align: right;\">\n",
       "      <th></th>\n",
       "      <th>qr_scanned</th>\n",
       "    </tr>\n",
       "    <tr>\n",
       "      <th>day</th>\n",
       "      <th></th>\n",
       "    </tr>\n",
       "  </thead>\n",
       "  <tbody>\n",
       "    <tr>\n",
       "      <th>1</th>\n",
       "      <td>0</td>\n",
       "    </tr>\n",
       "    <tr>\n",
       "      <th>2</th>\n",
       "      <td>2</td>\n",
       "    </tr>\n",
       "    <tr>\n",
       "      <th>3</th>\n",
       "      <td>2</td>\n",
       "    </tr>\n",
       "    <tr>\n",
       "      <th>4</th>\n",
       "      <td>0</td>\n",
       "    </tr>\n",
       "    <tr>\n",
       "      <th>5</th>\n",
       "      <td>0</td>\n",
       "    </tr>\n",
       "  </tbody>\n",
       "</table>\n",
       "</div>"
      ],
      "text/plain": [
       "     qr_scanned\n",
       "day            \n",
       "1             0\n",
       "2             2\n",
       "3             2\n",
       "4             0\n",
       "5             0"
      ]
     },
     "execution_count": 21,
     "metadata": {},
     "output_type": "execute_result"
    }
   ],
   "source": [
    "# GROUPBY DAY AND GET HOW MANY QR SCANNED\n",
    "df_thrown[[\"day\", \"qr_scanned\"]].groupby('day').sum()"
   ]
  },
  {
   "cell_type": "markdown",
   "metadata": {},
   "source": [
    "# Get N for each color each day"
   ]
  },
  {
   "cell_type": "code",
   "execution_count": 22,
   "metadata": {},
   "outputs": [
    {
     "data": {
      "text/plain": [
       "(array(['blue', 'brown', 'yellow'], dtype=object),\n",
       " array(['blue', 'brown', 'yellow'], dtype=object))"
      ]
     },
     "execution_count": 22,
     "metadata": {},
     "output_type": "execute_result"
    }
   ],
   "source": [
    "df_thrown.real.unique(), df_thrown.predicted.unique()"
   ]
  },
  {
   "cell_type": "code",
   "execution_count": 23,
   "metadata": {},
   "outputs": [
    {
     "name": "stderr",
     "output_type": "stream",
     "text": [
      "/tmp/ipykernel_9179/2879380328.py:2: DeprecationWarning: DataFrameGroupBy.apply operated on the grouping columns. This behavior is deprecated, and in a future version of pandas the grouping columns will be excluded from the operation. Either pass `include_groups=False` to exclude the groupings or explicitly select the grouping columns after groupby to silence this warning.\n",
      "  df_thrown.groupby('day').apply(lambda x: x['predicted'].value_counts())\n"
     ]
    },
    {
     "data": {
      "text/plain": [
       "day  predicted\n",
       "1    yellow        4\n",
       "     brown         3\n",
       "     blue          2\n",
       "2    yellow       12\n",
       "     blue          3\n",
       "     brown         2\n",
       "3    brown         8\n",
       "     yellow        5\n",
       "     blue          4\n",
       "4    yellow        7\n",
       "     brown         5\n",
       "     blue          3\n",
       "5    yellow        4\n",
       "     brown         3\n",
       "     blue          2\n",
       "Name: count, dtype: int64"
      ]
     },
     "execution_count": 23,
     "metadata": {},
     "output_type": "execute_result"
    }
   ],
   "source": [
    "#get yellow, blue and brown counts for each day\n",
    "df_thrown.groupby('day').apply(lambda x: x['predicted'].value_counts())"
   ]
  },
  {
   "cell_type": "code",
   "execution_count": 24,
   "metadata": {},
   "outputs": [
    {
     "name": "stderr",
     "output_type": "stream",
     "text": [
      "/tmp/ipykernel_9179/2753731640.py:2: DeprecationWarning: DataFrameGroupBy.apply operated on the grouping columns. This behavior is deprecated, and in a future version of pandas the grouping columns will be excluded from the operation. Either pass `include_groups=False` to exclude the groupings or explicitly select the grouping columns after groupby to silence this warning.\n",
      "  df_thrown.groupby('day').apply(lambda x: x['real'].value_counts())\n"
     ]
    },
    {
     "data": {
      "text/plain": [
       "day  real  \n",
       "1    yellow     5\n",
       "     blue       2\n",
       "     brown      2\n",
       "2    yellow    11\n",
       "     blue       5\n",
       "     brown      1\n",
       "3    blue       7\n",
       "     yellow     6\n",
       "     brown      4\n",
       "4    yellow     9\n",
       "     brown      5\n",
       "     blue       1\n",
       "5    yellow     5\n",
       "     blue       2\n",
       "     brown      2\n",
       "Name: count, dtype: int64"
      ]
     },
     "execution_count": 24,
     "metadata": {},
     "output_type": "execute_result"
    }
   ],
   "source": [
    "#get yellow, blue and brown counts for each day\n",
    "df_thrown.groupby('day').apply(lambda x: x['real'].value_counts())"
   ]
  },
  {
   "cell_type": "code",
   "execution_count": 25,
   "metadata": {},
   "outputs": [
    {
     "name": "stderr",
     "output_type": "stream",
     "text": [
      "/tmp/ipykernel_9179/1485725711.py:2: DeprecationWarning: DataFrameGroupBy.apply operated on the grouping columns. This behavior is deprecated, and in a future version of pandas the grouping columns will be excluded from the operation. Either pass `include_groups=False` to exclude the groupings or explicitly select the grouping columns after groupby to silence this warning.\n",
      "  df_thrown.groupby('day').apply(lambda x: x['person_thrown'].value_counts())\n"
     ]
    },
    {
     "data": {
      "text/plain": [
       "day  person_thrown\n",
       "1    blue             4\n",
       "     brown            3\n",
       "     yellow           2\n",
       "2    yellow           9\n",
       "     brown            7\n",
       "     blue             1\n",
       "3    blue             8\n",
       "     yellow           5\n",
       "     brown            4\n",
       "4    yellow           7\n",
       "     blue             7\n",
       "     brown            1\n",
       "5    blue             4\n",
       "     brown            3\n",
       "     yellow           2\n",
       "Name: count, dtype: int64"
      ]
     },
     "execution_count": 25,
     "metadata": {},
     "output_type": "execute_result"
    }
   ],
   "source": [
    "#get yellow, blue and brown counts for each day\n",
    "df_thrown.groupby('day').apply(lambda x: x['person_thrown'].value_counts())"
   ]
  },
  {
   "cell_type": "code",
   "execution_count": 26,
   "metadata": {},
   "outputs": [
    {
     "data": {
      "text/plain": [
       "predicted\n",
       "yellow    32\n",
       "brown     21\n",
       "blue      14\n",
       "Name: count, dtype: int64"
      ]
     },
     "execution_count": 26,
     "metadata": {},
     "output_type": "execute_result"
    }
   ],
   "source": [
    "df_thrown[\"predicted\"].value_counts()"
   ]
  },
  {
   "cell_type": "code",
   "execution_count": 27,
   "metadata": {},
   "outputs": [
    {
     "data": {
      "text/plain": [
       "real\n",
       "yellow    36\n",
       "blue      17\n",
       "brown     14\n",
       "Name: count, dtype: int64"
      ]
     },
     "execution_count": 27,
     "metadata": {},
     "output_type": "execute_result"
    }
   ],
   "source": [
    "df_thrown[\"real\"].value_counts()"
   ]
  },
  {
   "cell_type": "markdown",
   "metadata": {},
   "source": [
    "# How good our model predicts?( Pred vs Real )"
   ]
  },
  {
   "cell_type": "code",
   "execution_count": 28,
   "metadata": {},
   "outputs": [],
   "source": [
    "# new column called 'correct' to check if the predicted value is correct\n",
    "import numpy as np\n",
    "df['pred_vs_real'] = np.where(df['real'] == df['predicted'], 1, 0)"
   ]
  },
  {
   "cell_type": "code",
   "execution_count": 29,
   "metadata": {},
   "outputs": [
    {
     "data": {
      "text/plain": [
       "np.float64(0.8227848101265823)"
      ]
     },
     "execution_count": 29,
     "metadata": {},
     "output_type": "execute_result"
    }
   ],
   "source": [
    "#calculate mean of correct values\n",
    "mean_correct = df['pred_vs_real'].mean()\n",
    "mean_correct"
   ]
  },
  {
   "cell_type": "code",
   "execution_count": 30,
   "metadata": {},
   "outputs": [
    {
     "data": {
      "text/plain": [
       "day\n",
       "1    0.916667\n",
       "2    0.761905\n",
       "3    0.722222\n",
       "4    0.875000\n",
       "5    0.916667\n",
       "Name: pred_vs_real, dtype: float64"
      ]
     },
     "execution_count": 30,
     "metadata": {},
     "output_type": "execute_result"
    }
   ],
   "source": [
    "# calculate the mean correct for each day\n",
    "df.groupby('day')['pred_vs_real'].mean()"
   ]
  },
  {
   "cell_type": "markdown",
   "metadata": {},
   "source": [
    "# How good people follow instructions ( Pred vs Thrown)"
   ]
  },
  {
   "cell_type": "code",
   "execution_count": 31,
   "metadata": {},
   "outputs": [
    {
     "name": "stderr",
     "output_type": "stream",
     "text": [
      "/tmp/ipykernel_9179/1748703870.py:3: SettingWithCopyWarning: \n",
      "A value is trying to be set on a copy of a slice from a DataFrame.\n",
      "Try using .loc[row_indexer,col_indexer] = value instead\n",
      "\n",
      "See the caveats in the documentation: https://pandas.pydata.org/pandas-docs/stable/user_guide/indexing.html#returning-a-view-versus-a-copy\n",
      "  df_thrown['pred_vs_thrown'] = np.where(df_thrown['predicted'] == df_thrown['person_thrown'], 1, 0)\n"
     ]
    }
   ],
   "source": [
    "# new column called 'pred_vs_thrown' to check if the predicted value is correct\n",
    "import numpy as np\n",
    "df_thrown['pred_vs_thrown'] = np.where(df_thrown['predicted'] == df_thrown['person_thrown'], 1, 0)"
   ]
  },
  {
   "cell_type": "code",
   "execution_count": 32,
   "metadata": {},
   "outputs": [
    {
     "data": {
      "text/plain": [
       "np.float64(0.6865671641791045)"
      ]
     },
     "execution_count": 32,
     "metadata": {},
     "output_type": "execute_result"
    }
   ],
   "source": [
    "#calculate mean of correct values\n",
    "mean_correct = df_thrown['pred_vs_thrown'].mean()\n",
    "mean_correct"
   ]
  },
  {
   "cell_type": "code",
   "execution_count": 33,
   "metadata": {},
   "outputs": [
    {
     "data": {
      "text/plain": [
       "day\n",
       "1    0.777778\n",
       "2    0.705882\n",
       "3    0.764706\n",
       "4    0.466667\n",
       "5    0.777778\n",
       "Name: pred_vs_thrown, dtype: float64"
      ]
     },
     "execution_count": 33,
     "metadata": {},
     "output_type": "execute_result"
    }
   ],
   "source": [
    "# calculate the mean correct for each day\n",
    "df_thrown.groupby('day')['pred_vs_thrown'].mean()"
   ]
  },
  {
   "cell_type": "markdown",
   "metadata": {},
   "source": [
    "# How good people recycle with the system ( Real vs Thrown)"
   ]
  },
  {
   "cell_type": "code",
   "execution_count": 34,
   "metadata": {},
   "outputs": [
    {
     "name": "stderr",
     "output_type": "stream",
     "text": [
      "/tmp/ipykernel_9179/672672625.py:3: SettingWithCopyWarning: \n",
      "A value is trying to be set on a copy of a slice from a DataFrame.\n",
      "Try using .loc[row_indexer,col_indexer] = value instead\n",
      "\n",
      "See the caveats in the documentation: https://pandas.pydata.org/pandas-docs/stable/user_guide/indexing.html#returning-a-view-versus-a-copy\n",
      "  df_thrown['real_vs_thrown'] = np.where(df_thrown['real'] == df_thrown['person_thrown'], 1, 0)\n"
     ]
    }
   ],
   "source": [
    "# new column called 'real_vs_thrown' to check if the predicted value is correct\n",
    "import numpy as np\n",
    "df_thrown['real_vs_thrown'] = np.where(df_thrown['real'] == df_thrown['person_thrown'], 1, 0)"
   ]
  },
  {
   "cell_type": "code",
   "execution_count": 35,
   "metadata": {},
   "outputs": [
    {
     "data": {
      "text/plain": [
       "np.float64(0.6268656716417911)"
      ]
     },
     "execution_count": 35,
     "metadata": {},
     "output_type": "execute_result"
    }
   ],
   "source": [
    "#calculate mean of correct values\n",
    "mean_correct = df_thrown['real_vs_thrown'].mean()\n",
    "mean_correct"
   ]
  },
  {
   "cell_type": "code",
   "execution_count": 36,
   "metadata": {},
   "outputs": [
    {
     "data": {
      "text/plain": [
       "day\n",
       "1    0.666667\n",
       "2    0.529412\n",
       "3    0.823529\n",
       "4    0.466667\n",
       "5    0.666667\n",
       "Name: real_vs_thrown, dtype: float64"
      ]
     },
     "execution_count": 36,
     "metadata": {},
     "output_type": "execute_result"
    }
   ],
   "source": [
    "# calculate the mean correct for each day\n",
    "df_thrown.groupby('day')['real_vs_thrown'].mean()"
   ]
  },
  {
   "cell_type": "markdown",
   "metadata": {},
   "source": [
    "# Type I Type II Error"
   ]
  },
  {
   "cell_type": "markdown",
   "metadata": {},
   "source": [
    "\n"
   ]
  },
  {
   "cell_type": "code",
   "execution_count": 37,
   "metadata": {},
   "outputs": [
    {
     "data": {
      "text/plain": [
       "Index(['time', 'predicted', 'real', 'person_thrown', 'qr_scanned', 'day',\n",
       "       'thrown_real', 'thrown_predited', 'predicted_real', 'pred_vs_thrown',\n",
       "       'real_vs_thrown'],\n",
       "      dtype='object')"
      ]
     },
     "execution_count": 37,
     "metadata": {},
     "output_type": "execute_result"
    }
   ],
   "source": [
    "df_thrown.columns"
   ]
  },
  {
   "cell_type": "markdown",
   "metadata": {},
   "source": [
    "## Pred vs Real"
   ]
  },
  {
   "cell_type": "markdown",
   "metadata": {},
   "source": [
    "- Type I Error for yellow:  When the predicted value is \"yellow\", but the actual value is not \"yellow\".\n",
    "- Type II Error for yellow: When the real value is \"yellow\", but the predicted value is not \"yellow\"."
   ]
  },
  {
   "cell_type": "code",
   "execution_count": 38,
   "metadata": {},
   "outputs": [],
   "source": [
    "# Type I Error for yellow: When the predicted value is \"yellow\", but the actual value is not \"yellow\".\n",
    "type_i_error_yellow = df_thrown[(df_thrown['predicted'] == 'yellow') & (df_thrown['real'] != 'yellow')]\n",
    "type_i_error_blue = df_thrown[(df_thrown['predicted'] == 'blue') & (df_thrown['real'] != 'blue')]\n",
    "type_i_error_brown = df_thrown[(df_thrown['predicted'] == 'brown') & (df_thrown['real'] != 'brown')]"
   ]
  },
  {
   "cell_type": "code",
   "execution_count": 39,
   "metadata": {},
   "outputs": [],
   "source": [
    "#Type II Error for yellow: When the real value is \"yellow\", but the predicted value is not \"yellow\".\n",
    "type_ii_error_yellow = df_thrown[(df_thrown['real'] == 'yellow') & (df_thrown['predicted'] != 'yellow')]\n",
    "type_ii_error_blue = df_thrown[(df_thrown['real'] == 'blue') & (df_thrown['predicted'] != 'blue')]\n",
    "type_ii_error_brown = df_thrown[(df_thrown['real'] == 'brown') & (df_thrown['predicted'] != 'brown')]"
   ]
  },
  {
   "cell_type": "code",
   "execution_count": 40,
   "metadata": {},
   "outputs": [
    {
     "data": {
      "text/plain": [
       "day\n",
       "2    2\n",
       "dtype: int64"
      ]
     },
     "execution_count": 40,
     "metadata": {},
     "output_type": "execute_result"
    }
   ],
   "source": [
    "# Type I error Yellow\n",
    "type_i_error_yellow.groupby('day').size()"
   ]
  },
  {
   "cell_type": "code",
   "execution_count": 41,
   "metadata": {},
   "outputs": [
    {
     "data": {
      "text/plain": [
       "day\n",
       "3    1\n",
       "4    2\n",
       "dtype: int64"
      ]
     },
     "execution_count": 41,
     "metadata": {},
     "output_type": "execute_result"
    }
   ],
   "source": [
    "# Type I error Blue\n",
    "type_i_error_blue.groupby('day').size()"
   ]
  },
  {
   "cell_type": "code",
   "execution_count": 42,
   "metadata": {},
   "outputs": [
    {
     "data": {
      "text/plain": [
       "day\n",
       "1    1\n",
       "2    1\n",
       "3    4\n",
       "5    1\n",
       "dtype: int64"
      ]
     },
     "execution_count": 42,
     "metadata": {},
     "output_type": "execute_result"
    }
   ],
   "source": [
    "#Type I error Brown\n",
    "type_i_error_brown.groupby('day').size()"
   ]
  },
  {
   "cell_type": "code",
   "execution_count": 43,
   "metadata": {},
   "outputs": [
    {
     "data": {
      "text/plain": [
       "day\n",
       "1    1\n",
       "2    1\n",
       "3    1\n",
       "4    2\n",
       "5    1\n",
       "dtype: int64"
      ]
     },
     "execution_count": 43,
     "metadata": {},
     "output_type": "execute_result"
    }
   ],
   "source": [
    "# Type II error Yellow\n",
    "type_ii_error_yellow.groupby('day').size()"
   ]
  },
  {
   "cell_type": "code",
   "execution_count": 44,
   "metadata": {},
   "outputs": [
    {
     "data": {
      "text/plain": [
       "day\n",
       "2    2\n",
       "3    4\n",
       "dtype: int64"
      ]
     },
     "execution_count": 44,
     "metadata": {},
     "output_type": "execute_result"
    }
   ],
   "source": [
    "# Type II error Blue\n",
    "type_ii_error_blue.groupby('day').size()"
   ]
  },
  {
   "cell_type": "code",
   "execution_count": 45,
   "metadata": {},
   "outputs": [
    {
     "data": {
      "text/plain": [
       "Series([], dtype: int64)"
      ]
     },
     "execution_count": 45,
     "metadata": {},
     "output_type": "execute_result"
    }
   ],
   "source": [
    "#type II error Brown\n",
    "type_ii_error_brown.groupby('day').size()"
   ]
  },
  {
   "cell_type": "markdown",
   "metadata": {},
   "source": [
    "## Real vs Thrown"
   ]
  },
  {
   "cell_type": "markdown",
   "metadata": {},
   "source": [
    "- Type I Error for yellow:  When the thrown value is \"yellow\", but the real value is not \"yellow\".\n",
    "- Type II Error for yellow: When the real value is \"yellow\", but the thrown value is not \"yellow\"."
   ]
  },
  {
   "cell_type": "code",
   "execution_count": 46,
   "metadata": {},
   "outputs": [],
   "source": [
    "# Type I Error for yellow: When the person_thrown value is \"yellow\", but the actual value is not \"yellow\".\n",
    "type_i_error_yellow = df_thrown[(df_thrown['real'] == 'yellow') & (df_thrown['person_thrown'] != 'yellow')]\n",
    "type_i_error_blue = df_thrown[(df_thrown['real'] == 'blue') & (df_thrown['person_thrown'] != 'blue')]\n",
    "type_i_error_brown = df_thrown[(df_thrown['real'] == 'brown') & (df_thrown['person_thrown'] != 'brown')]"
   ]
  },
  {
   "cell_type": "code",
   "execution_count": 47,
   "metadata": {},
   "outputs": [],
   "source": [
    "#Type II Error for yellow: When the real value is \"yellow\", but the thrown value is not \"yellow\".\n",
    "type_ii_error_yellow = df_thrown[(df_thrown['person_thrown'] == 'yellow') & (df_thrown['real'] != 'yellow')]\n",
    "type_ii_error_blue = df_thrown[(df_thrown['person_thrown'] == 'blue') & (df_thrown['real'] != 'blue')]\n",
    "type_ii_error_brown = df_thrown[(df_thrown['person_thrown'] == 'brown') & (df_thrown['real'] != 'brown')]"
   ]
  },
  {
   "cell_type": "code",
   "execution_count": 48,
   "metadata": {},
   "outputs": [
    {
     "data": {
      "text/plain": [
       "day\n",
       "1    3\n",
       "2    4\n",
       "3    1\n",
       "4    4\n",
       "5    3\n",
       "dtype: int64"
      ]
     },
     "execution_count": 48,
     "metadata": {},
     "output_type": "execute_result"
    }
   ],
   "source": [
    "#type I error Yellow\n",
    "type_i_error_yellow.groupby('day').size()"
   ]
  },
  {
   "cell_type": "code",
   "execution_count": 49,
   "metadata": {},
   "outputs": [
    {
     "data": {
      "text/plain": [
       "day\n",
       "2    4\n",
       "3    1\n",
       "dtype: int64"
      ]
     },
     "execution_count": 49,
     "metadata": {},
     "output_type": "execute_result"
    }
   ],
   "source": [
    "#type I error Blue\n",
    "type_i_error_blue.groupby('day').size()"
   ]
  },
  {
   "cell_type": "code",
   "execution_count": 50,
   "metadata": {},
   "outputs": [
    {
     "data": {
      "text/plain": [
       "day\n",
       "3    1\n",
       "4    4\n",
       "dtype: int64"
      ]
     },
     "execution_count": 50,
     "metadata": {},
     "output_type": "execute_result"
    }
   ],
   "source": [
    "#type I error Brown\n",
    "type_i_error_brown.groupby('day').size()\n"
   ]
  },
  {
   "cell_type": "code",
   "execution_count": 51,
   "metadata": {},
   "outputs": [
    {
     "data": {
      "text/plain": [
       "day\n",
       "2    2\n",
       "4    2\n",
       "dtype: int64"
      ]
     },
     "execution_count": 51,
     "metadata": {},
     "output_type": "execute_result"
    }
   ],
   "source": [
    "#type II error Yellow\n",
    "type_ii_error_yellow.groupby('day').size()"
   ]
  },
  {
   "cell_type": "code",
   "execution_count": 52,
   "metadata": {},
   "outputs": [
    {
     "data": {
      "text/plain": [
       "day\n",
       "1    2\n",
       "3    2\n",
       "4    6\n",
       "5    2\n",
       "dtype: int64"
      ]
     },
     "execution_count": 52,
     "metadata": {},
     "output_type": "execute_result"
    }
   ],
   "source": [
    "#type II error Blue\n",
    "type_ii_error_blue.groupby('day').size()"
   ]
  },
  {
   "cell_type": "code",
   "execution_count": 53,
   "metadata": {},
   "outputs": [
    {
     "data": {
      "text/plain": [
       "day\n",
       "1    1\n",
       "2    6\n",
       "3    1\n",
       "5    1\n",
       "dtype: int64"
      ]
     },
     "execution_count": 53,
     "metadata": {},
     "output_type": "execute_result"
    }
   ],
   "source": [
    "#type II error Brown\n",
    "type_ii_error_brown.groupby('day').size()"
   ]
  },
  {
   "cell_type": "markdown",
   "metadata": {},
   "source": [
    "## Pred vs Thrown"
   ]
  },
  {
   "cell_type": "markdown",
   "metadata": {},
   "source": [
    "- Type I Error for yellow:  When the predicted value is \"yellow\", but the thrown value is not \"yellow\".\n",
    "- Type II Error for yellow: When the thrown value is \"yellow\", but the predicted value is not \"yellow\"."
   ]
  },
  {
   "cell_type": "code",
   "execution_count": 54,
   "metadata": {},
   "outputs": [],
   "source": [
    "# Type I Error for yellow: When the predicted value is \"yellow\", but the thrown value is not \"yellow\".\n",
    "type_i_error_yellow = df_thrown[(df_thrown['predicted'] == 'yellow') & (df_thrown['person_thrown'] != 'yellow')]\n",
    "type_i_error_blue = df_thrown[(df_thrown['predicted'] == 'blue') & (df_thrown['person_thrown'] != 'blue')]\n",
    "type_i_error_brown = df_thrown[(df_thrown['predicted'] == 'brown') & (df_thrown['person_thrown'] != 'brown')]"
   ]
  },
  {
   "cell_type": "code",
   "execution_count": 55,
   "metadata": {},
   "outputs": [],
   "source": [
    "#Type II Error for yellow: When the thrown value is \"yellow\", but the predicted value is not \"yellow\".\n",
    "type_ii_error_yellow = df_thrown[(df_thrown['person_thrown'] == 'yellow') & (df_thrown['predicted'] != 'yellow')]\n",
    "type_ii_error_blue = df_thrown[(df_thrown['person_thrown'] == 'blue') & (df_thrown['predicted'] != 'blue')]\n",
    "type_ii_error_brown = df_thrown[(df_thrown['person_thrown'] == 'brown') & (df_thrown['predicted'] != 'brown')]"
   ]
  },
  {
   "cell_type": "code",
   "execution_count": 56,
   "metadata": {},
   "outputs": [
    {
     "data": {
      "text/plain": [
       "day\n",
       "1    2\n",
       "2    3\n",
       "4    3\n",
       "5    2\n",
       "dtype: int64"
      ]
     },
     "execution_count": 56,
     "metadata": {},
     "output_type": "execute_result"
    }
   ],
   "source": [
    "#type I error Yellow\n",
    "type_i_error_yellow.groupby('day').size()"
   ]
  },
  {
   "cell_type": "code",
   "execution_count": 57,
   "metadata": {},
   "outputs": [
    {
     "data": {
      "text/plain": [
       "day\n",
       "2    2\n",
       "4    1\n",
       "dtype: int64"
      ]
     },
     "execution_count": 57,
     "metadata": {},
     "output_type": "execute_result"
    }
   ],
   "source": [
    "#type I error Blue\n",
    "type_i_error_blue.groupby('day').size()"
   ]
  },
  {
   "cell_type": "code",
   "execution_count": 58,
   "metadata": {},
   "outputs": [
    {
     "data": {
      "text/plain": [
       "day\n",
       "3    4\n",
       "4    4\n",
       "dtype: int64"
      ]
     },
     "execution_count": 58,
     "metadata": {},
     "output_type": "execute_result"
    }
   ],
   "source": [
    "#type I error Brown\n",
    "type_i_error_brown.groupby('day').size()\n"
   ]
  },
  {
   "cell_type": "code",
   "execution_count": 59,
   "metadata": {},
   "outputs": [
    {
     "data": {
      "text/plain": [
       "day\n",
       "4    3\n",
       "dtype: int64"
      ]
     },
     "execution_count": 59,
     "metadata": {},
     "output_type": "execute_result"
    }
   ],
   "source": [
    "#type II error Yellow\n",
    "type_ii_error_yellow.groupby('day').size()"
   ]
  },
  {
   "cell_type": "code",
   "execution_count": 60,
   "metadata": {},
   "outputs": [
    {
     "data": {
      "text/plain": [
       "day\n",
       "1    2\n",
       "3    4\n",
       "4    5\n",
       "5    2\n",
       "dtype: int64"
      ]
     },
     "execution_count": 60,
     "metadata": {},
     "output_type": "execute_result"
    }
   ],
   "source": [
    "#type II error Blue\n",
    "type_ii_error_blue.groupby('day').size()"
   ]
  },
  {
   "cell_type": "code",
   "execution_count": 61,
   "metadata": {},
   "outputs": [
    {
     "data": {
      "text/plain": [
       "day\n",
       "2    5\n",
       "dtype: int64"
      ]
     },
     "execution_count": 61,
     "metadata": {},
     "output_type": "execute_result"
    }
   ],
   "source": [
    "#type II error Brown\n",
    "type_ii_error_brown.groupby('day').size()"
   ]
  },
  {
   "cell_type": "markdown",
   "metadata": {},
   "source": [
    "## Pred ^ Real VS Thrown"
   ]
  },
  {
   "cell_type": "code",
   "execution_count": 62,
   "metadata": {},
   "outputs": [
    {
     "data": {
      "text/plain": [
       "(55, 11)"
      ]
     },
     "execution_count": 62,
     "metadata": {},
     "output_type": "execute_result"
    }
   ],
   "source": [
    "df_thrown_2 = df_thrown.copy()\n",
    "# take the rows where real and predicted are the same\n",
    "df_thrown_2 = df_thrown_2[df_thrown_2['real'] == df_thrown_2['predicted']]\n",
    "df_thrown_2.shape"
   ]
  },
  {
   "cell_type": "code",
   "execution_count": 63,
   "metadata": {},
   "outputs": [],
   "source": [
    "# Type I Error for yellow: When the predicted value is \"yellow\", but the thrown value is not \"yellow\".\n",
    "type_i_error_yellow = df_thrown_2[(df_thrown_2['predicted'] == 'yellow') & (df_thrown_2['person_thrown'] != 'yellow')]\n",
    "type_i_error_blue = df_thrown_2[(df_thrown_2['predicted'] == 'blue') & (df_thrown_2['person_thrown'] != 'blue')]\n",
    "type_i_error_brown = df_thrown_2[(df_thrown_2['predicted'] == 'brown') & (df_thrown_2['person_thrown'] != 'brown')]"
   ]
  },
  {
   "cell_type": "code",
   "execution_count": 64,
   "metadata": {},
   "outputs": [],
   "source": [
    "#Type II Error for yellow: When the thrown value is \"yellow\", but the predicted value is not \"yellow\".\n",
    "type_ii_error_yellow = df_thrown_2[(df_thrown_2['person_thrown'] == 'yellow') & (df_thrown_2['predicted'] != 'yellow')]\n",
    "type_ii_error_blue = df_thrown_2[(df_thrown_2['person_thrown'] == 'blue') & (df_thrown_2['predicted'] != 'blue')]\n",
    "type_ii_error_brown = df_thrown_2[(df_thrown_2['person_thrown'] == 'brown') & (df_thrown_2['predicted'] != 'brown')]"
   ]
  },
  {
   "cell_type": "code",
   "execution_count": 65,
   "metadata": {},
   "outputs": [
    {
     "data": {
      "text/plain": [
       "day\n",
       "1    2\n",
       "2    3\n",
       "4    3\n",
       "5    2\n",
       "dtype: int64"
      ]
     },
     "execution_count": 65,
     "metadata": {},
     "output_type": "execute_result"
    }
   ],
   "source": [
    "#type I error Yellow\n",
    "type_i_error_yellow.groupby('day').size()"
   ]
  },
  {
   "cell_type": "code",
   "execution_count": 66,
   "metadata": {},
   "outputs": [
    {
     "data": {
      "text/plain": [
       "day\n",
       "2    2\n",
       "dtype: int64"
      ]
     },
     "execution_count": 66,
     "metadata": {},
     "output_type": "execute_result"
    }
   ],
   "source": [
    "#type I error Blue\n",
    "type_i_error_blue.groupby('day').size()"
   ]
  },
  {
   "cell_type": "code",
   "execution_count": 67,
   "metadata": {},
   "outputs": [
    {
     "data": {
      "text/plain": [
       "day\n",
       "3    1\n",
       "4    4\n",
       "dtype: int64"
      ]
     },
     "execution_count": 67,
     "metadata": {},
     "output_type": "execute_result"
    }
   ],
   "source": [
    "#type I error Brown\n",
    "type_i_error_brown.groupby('day').size()\n"
   ]
  },
  {
   "cell_type": "code",
   "execution_count": 68,
   "metadata": {},
   "outputs": [
    {
     "data": {
      "text/plain": [
       "day\n",
       "4    2\n",
       "dtype: int64"
      ]
     },
     "execution_count": 68,
     "metadata": {},
     "output_type": "execute_result"
    }
   ],
   "source": [
    "#type II error Yellow\n",
    "type_ii_error_yellow.groupby('day').size()"
   ]
  },
  {
   "cell_type": "code",
   "execution_count": 69,
   "metadata": {},
   "outputs": [
    {
     "data": {
      "text/plain": [
       "day\n",
       "1    2\n",
       "3    1\n",
       "4    5\n",
       "5    2\n",
       "dtype: int64"
      ]
     },
     "execution_count": 69,
     "metadata": {},
     "output_type": "execute_result"
    }
   ],
   "source": [
    "#type II error Blue\n",
    "type_ii_error_blue.groupby('day').size()"
   ]
  },
  {
   "cell_type": "code",
   "execution_count": 70,
   "metadata": {},
   "outputs": [
    {
     "data": {
      "text/plain": [
       "day\n",
       "2    5\n",
       "dtype: int64"
      ]
     },
     "execution_count": 70,
     "metadata": {},
     "output_type": "execute_result"
    }
   ],
   "source": [
    "#type II error Brown\n",
    "type_ii_error_brown.groupby('day').size()"
   ]
  },
  {
   "cell_type": "code",
   "execution_count": 71,
   "metadata": {},
   "outputs": [
    {
     "data": {
      "image/png": "[encoded data removed]",
      "text/plain": [
       "<Figure size 600x600 with 1 Axes>"
      ]
     },
     "metadata": {},
     "output_type": "display_data"
    }
   ],
   "source": [
    "import pandas as pd\n",
    "import numpy as np\n",
    "import matplotlib.pyplot as plt\n",
    "\n",
    "# Import the sankey function from the sankey module within pySankey\n",
    "from pySankey.sankey import sankey\n",
    "colors = {\n",
    "    \"apple\": \"#f71b1b\",\n",
    "    \"blue\": \"#1b7ef7\",\n",
    "    \"yellow\": \"#f3f71b\",\n",
    "    \"lime\": \"#12e23f\",\n",
    "    \"brown\": \"#f78c1b\",\n",
    "    \"nonthrown\": \"#000000\",\n",
    "    \"nonclassified\": \"#000000\",\n",
    "}\n",
    "\n",
    "sankey(df_thrown_2[\"predicted\"], df_thrown_2[\"person_thrown\"], aspect=20, colorDict=colors, fontsize=12)"
   ]
  },
  {
   "cell_type": "markdown",
   "metadata": {},
   "source": [
    "## Pred v Real VS Thrown"
   ]
  },
  {
   "cell_type": "markdown",
   "metadata": {},
   "source": [
    "##### Predicted"
   ]
  },
  {
   "cell_type": "code",
   "execution_count": 93,
   "metadata": {},
   "outputs": [
    {
     "data": {
      "text/plain": [
       "(12, 11)"
      ]
     },
     "execution_count": 93,
     "metadata": {},
     "output_type": "execute_result"
    }
   ],
   "source": [
    "df_thrown_3 = df_thrown.copy()\n",
    "# take the rows where real and predicted are different\n",
    "df_thrown_3 = df_thrown_3[df_thrown_3['predicted'] != df_thrown_3['real']]\n",
    "df_thrown_3.shape"
   ]
  },
  {
   "cell_type": "code",
   "execution_count": 94,
   "metadata": {},
   "outputs": [],
   "source": [
    "# Type I Error for yellow: When the predicted value is \"yellow\", but the thrown value is not \"yellow\".\n",
    "type_i_error_yellow = df_thrown_3[(df_thrown_3['predicted'] == 'yellow') & (df_thrown_3['person_thrown'] != 'yellow')]\n",
    "type_i_error_blue = df_thrown_3[(df_thrown_3['predicted'] == 'blue') & (df_thrown_3['person_thrown'] != 'blue')]\n",
    "type_i_error_brown = df_thrown_3[(df_thrown_3['predicted'] == 'brown') & (df_thrown_3['person_thrown'] != 'brown')]"
   ]
  },
  {
   "cell_type": "code",
   "execution_count": 95,
   "metadata": {},
   "outputs": [],
   "source": [
    "#Type II Error for yellow: When the thrown value is \"yellow\", but the predicted value is not \"yellow\".\n",
    "type_ii_error_yellow = df_thrown_3[(df_thrown_3['person_thrown'] == 'yellow') & (df_thrown_3['predicted'] != 'yellow')]\n",
    "type_ii_error_blue = df_thrown_3[(df_thrown_3['person_thrown'] == 'blue') & (df_thrown_3['predicted'] != 'blue')]\n",
    "type_ii_error_brown = df_thrown_3[(df_thrown_3['person_thrown'] == 'brown') & (df_thrown_3['predicted'] != 'brown')]"
   ]
  },
  {
   "cell_type": "code",
   "execution_count": 96,
   "metadata": {},
   "outputs": [
    {
     "data": {
      "text/plain": [
       "Series([], dtype: int64)"
      ]
     },
     "execution_count": 96,
     "metadata": {},
     "output_type": "execute_result"
    }
   ],
   "source": [
    "#type I error Yellow\n",
    "type_i_error_yellow.groupby('day').size()"
   ]
  },
  {
   "cell_type": "code",
   "execution_count": 97,
   "metadata": {},
   "outputs": [
    {
     "data": {
      "text/plain": [
       "day\n",
       "4    1\n",
       "dtype: int64"
      ]
     },
     "execution_count": 97,
     "metadata": {},
     "output_type": "execute_result"
    }
   ],
   "source": [
    "#type I error Blue\n",
    "type_i_error_blue.groupby('day').size()"
   ]
  },
  {
   "cell_type": "code",
   "execution_count": 102,
   "metadata": {},
   "outputs": [
    {
     "data": {
      "text/plain": [
       "day\n",
       "3    3\n",
       "dtype: int64"
      ]
     },
     "execution_count": 102,
     "metadata": {},
     "output_type": "execute_result"
    }
   ],
   "source": [
    "#type I error Brown\n",
    "type_i_error_brown.groupby('day').size()"
   ]
  },
  {
   "cell_type": "code",
   "execution_count": 99,
   "metadata": {},
   "outputs": [
    {
     "data": {
      "text/plain": [
       "day\n",
       "4    1\n",
       "dtype: int64"
      ]
     },
     "execution_count": 99,
     "metadata": {},
     "output_type": "execute_result"
    }
   ],
   "source": [
    "#type II error Yellow\n",
    "type_ii_error_yellow.groupby('day').size()"
   ]
  },
  {
   "cell_type": "code",
   "execution_count": 100,
   "metadata": {},
   "outputs": [
    {
     "data": {
      "text/plain": [
       "day\n",
       "3    3\n",
       "dtype: int64"
      ]
     },
     "execution_count": 100,
     "metadata": {},
     "output_type": "execute_result"
    }
   ],
   "source": [
    "#type II error Blue\n",
    "type_ii_error_blue.groupby('day').size()"
   ]
  },
  {
   "cell_type": "code",
   "execution_count": 101,
   "metadata": {},
   "outputs": [
    {
     "data": {
      "text/plain": [
       "Series([], dtype: int64)"
      ]
     },
     "execution_count": 101,
     "metadata": {},
     "output_type": "execute_result"
    }
   ],
   "source": [
    "#type II error Brown\n",
    "type_ii_error_brown.groupby('day').size()"
   ]
  },
  {
   "cell_type": "code",
   "execution_count": 92,
   "metadata": {},
   "outputs": [
    {
     "data": {
      "image/png": "[encoded data removed]",
      "text/plain": [
       "<Figure size 600x600 with 1 Axes>"
      ]
     },
     "metadata": {},
     "output_type": "display_data"
    }
   ],
   "source": [
    "import pandas as pd\n",
    "import numpy as np\n",
    "import matplotlib.pyplot as plt\n",
    "\n",
    "# Import the sankey function from the sankey module within pySankey\n",
    "from pySankey.sankey import sankey\n",
    "colors = {\n",
    "    \"apple\": \"#f71b1b\",\n",
    "    \"blue\": \"#1b7ef7\",\n",
    "    \"yellow\": \"#f3f71b\",\n",
    "    \"lime\": \"#12e23f\",\n",
    "    \"brown\": \"#f78c1b\",\n",
    "    \"nonthrown\": \"#000000\",\n",
    "    \"nonclassified\": \"#000000\",\n",
    "}\n",
    "\n",
    "sankey(df_thrown_3[\"predicted\"], df_thrown_3[\"person_thrown\"], aspect=20, colorDict=colors, fontsize=12)"
   ]
  },
  {
   "cell_type": "markdown",
   "metadata": {},
   "source": [
    "##### Real"
   ]
  },
  {
   "cell_type": "code",
   "execution_count": 103,
   "metadata": {},
   "outputs": [
    {
     "data": {
      "text/plain": [
       "(12, 11)"
      ]
     },
     "execution_count": 103,
     "metadata": {},
     "output_type": "execute_result"
    }
   ],
   "source": [
    "df_thrown_3 = df_thrown.copy()\n",
    "# take the rows where real and predicted are different\n",
    "df_thrown_3 = df_thrown_3[df_thrown_3['predicted'] != df_thrown_3['real']]\n",
    "df_thrown_3.shape"
   ]
  },
  {
   "cell_type": "code",
   "execution_count": 105,
   "metadata": {},
   "outputs": [],
   "source": [
    "# Type I Error for yellow: When the predicted value is \"yellow\", but the thrown value is not \"yellow\".\n",
    "type_i_error_yellow = df_thrown_3[(df_thrown_3['real'] == 'yellow') & (df_thrown_3['person_thrown'] != 'yellow')]\n",
    "type_i_error_blue = df_thrown_3[(df_thrown_3['real'] == 'blue') & (df_thrown_3['person_thrown'] != 'blue')]\n",
    "type_i_error_brown = df_thrown_3[(df_thrown_3['real'] == 'brown') & (df_thrown_3['person_thrown'] != 'brown')]"
   ]
  },
  {
   "cell_type": "code",
   "execution_count": 106,
   "metadata": {},
   "outputs": [],
   "source": [
    "#Type II Error for yellow: When the thrown value is \"yellow\", but the real value is not \"yellow\".\n",
    "type_ii_error_yellow = df_thrown_3[(df_thrown_3['person_thrown'] == 'yellow') & (df_thrown_3['real'] != 'yellow')]\n",
    "type_ii_error_blue = df_thrown_3[(df_thrown_3['person_thrown'] == 'blue') & (df_thrown_3['real'] != 'blue')]\n",
    "type_ii_error_brown = df_thrown_3[(df_thrown_3['person_thrown'] == 'brown') & (df_thrown_3['real'] != 'brown')]"
   ]
  },
  {
   "cell_type": "code",
   "execution_count": 107,
   "metadata": {},
   "outputs": [
    {
     "data": {
      "text/plain": [
       "day\n",
       "1    1\n",
       "2    1\n",
       "3    1\n",
       "4    1\n",
       "5    1\n",
       "dtype: int64"
      ]
     },
     "execution_count": 107,
     "metadata": {},
     "output_type": "execute_result"
    }
   ],
   "source": [
    "#type I error Yellow\n",
    "type_i_error_yellow.groupby('day').size()"
   ]
  },
  {
   "cell_type": "code",
   "execution_count": 108,
   "metadata": {},
   "outputs": [
    {
     "data": {
      "text/plain": [
       "day\n",
       "2    2\n",
       "3    1\n",
       "dtype: int64"
      ]
     },
     "execution_count": 108,
     "metadata": {},
     "output_type": "execute_result"
    }
   ],
   "source": [
    "#type I error Blue\n",
    "type_i_error_blue.groupby('day').size()"
   ]
  },
  {
   "cell_type": "code",
   "execution_count": 114,
   "metadata": {},
   "outputs": [
    {
     "data": {
      "text/plain": [
       "Series([], dtype: int64)"
      ]
     },
     "execution_count": 114,
     "metadata": {},
     "output_type": "execute_result"
    }
   ],
   "source": [
    "#type I error Brown\n",
    "type_i_error_brown.groupby('day').size()"
   ]
  },
  {
   "cell_type": "code",
   "execution_count": 115,
   "metadata": {},
   "outputs": [
    {
     "data": {
      "text/plain": [
       "day\n",
       "2    2\n",
       "dtype: int64"
      ]
     },
     "execution_count": 115,
     "metadata": {},
     "output_type": "execute_result"
    }
   ],
   "source": [
    "#type II error Yellow\n",
    "type_ii_error_yellow.groupby('day').size()"
   ]
  },
  {
   "cell_type": "code",
   "execution_count": 111,
   "metadata": {},
   "outputs": [
    {
     "data": {
      "text/plain": [
       "day\n",
       "3    1\n",
       "4    1\n",
       "dtype: int64"
      ]
     },
     "execution_count": 111,
     "metadata": {},
     "output_type": "execute_result"
    }
   ],
   "source": [
    "#type II error Blue\n",
    "type_ii_error_blue.groupby('day').size()"
   ]
  },
  {
   "cell_type": "code",
   "execution_count": 112,
   "metadata": {},
   "outputs": [
    {
     "data": {
      "text/plain": [
       "day\n",
       "1    1\n",
       "2    1\n",
       "3    1\n",
       "5    1\n",
       "dtype: int64"
      ]
     },
     "execution_count": 112,
     "metadata": {},
     "output_type": "execute_result"
    }
   ],
   "source": [
    "#type II error Brown\n",
    "type_ii_error_brown.groupby('day').size()"
   ]
  },
  {
   "cell_type": "code",
   "execution_count": 113,
   "metadata": {},
   "outputs": [
    {
     "data": {
      "image/png": "[encoded data removed]",
      "text/plain": [
       "<Figure size 600x600 with 1 Axes>"
      ]
     },
     "metadata": {},
     "output_type": "display_data"
    }
   ],
   "source": [
    "sankey(df_thrown_3[\"real\"], df_thrown_3[\"person_thrown\"], aspect=20, colorDict=colors, fontsize=12)"
   ]
  },
  {
   "cell_type": "markdown",
   "metadata": {},
   "source": [
    "## Predicted vs Thrown"
   ]
  },
  {
   "cell_type": "code",
   "execution_count": null,
   "metadata": {},
   "outputs": [],
   "source": [
    "# Type I Error for yellow: When the predicted value is \"yellow\", but the thrown value is not \"yellow\".\n",
    "type_i_error_yellow = df_thrown_2[(df_thrown_2['predicted'] == 'yellow') & (df_thrown_2['person_thrown'] != 'yellow')]\n",
    "type_i_error_blue = df_thrown_2[(df_thrown_2['predicted'] == 'blue') & (df_thrown_2['person_thrown'] != 'blue')]\n",
    "type_i_error_brown = df_thrown_2[(df_thrown_2['predicted'] == 'brown') & (df_thrown_2['person_thrown'] != 'brown')]"
   ]
  },
  {
   "cell_type": "code",
   "execution_count": null,
   "metadata": {},
   "outputs": [],
   "source": [
    "#Type II Error for yellow: When the thrown value is \"yellow\", but the predicted value is not \"yellow\".\n",
    "type_ii_error_yellow = df_thrown_2[(df_thrown_2['person_thrown'] == 'yellow') & (df_thrown_2['predicted'] != 'yellow')]\n",
    "type_ii_error_blue = df_thrown_2[(df_thrown_2['person_thrown'] == 'blue') & (df_thrown_2['predicted'] != 'blue')]\n",
    "type_ii_error_brown = df_thrown_2[(df_thrown_2['person_thrown'] == 'brown') & (df_thrown_2['predicted'] != 'brown')]"
   ]
  },
  {
   "cell_type": "code",
   "execution_count": null,
   "metadata": {},
   "outputs": [
    {
     "data": {
      "text/plain": [
       "day\n",
       "1    2\n",
       "2    3\n",
       "4    3\n",
       "5    2\n",
       "dtype: int64"
      ]
     },
     "metadata": {},
     "output_type": "display_data"
    }
   ],
   "source": [
    "#type I error Yellow\n",
    "type_i_error_yellow.groupby('day').size()"
   ]
  },
  {
   "cell_type": "code",
   "execution_count": null,
   "metadata": {},
   "outputs": [
    {
     "data": {
      "text/plain": [
       "day\n",
       "2    2\n",
       "dtype: int64"
      ]
     },
     "metadata": {},
     "output_type": "display_data"
    }
   ],
   "source": [
    "#type I error Blue\n",
    "type_i_error_blue.groupby('day').size()"
   ]
  },
  {
   "cell_type": "code",
   "execution_count": null,
   "metadata": {},
   "outputs": [
    {
     "data": {
      "text/plain": [
       "day\n",
       "3    1\n",
       "4    4\n",
       "dtype: int64"
      ]
     },
     "metadata": {},
     "output_type": "display_data"
    }
   ],
   "source": [
    "#type I error Brown\n",
    "type_i_error_brown.groupby('day').size()\n"
   ]
  },
  {
   "cell_type": "code",
   "execution_count": null,
   "metadata": {},
   "outputs": [
    {
     "data": {
      "text/plain": [
       "day\n",
       "4    2\n",
       "dtype: int64"
      ]
     },
     "metadata": {},
     "output_type": "display_data"
    }
   ],
   "source": [
    "#type II error Yellow\n",
    "type_ii_error_yellow.groupby('day').size()"
   ]
  },
  {
   "cell_type": "code",
   "execution_count": null,
   "metadata": {},
   "outputs": [
    {
     "data": {
      "text/plain": [
       "day\n",
       "1    2\n",
       "3    1\n",
       "4    5\n",
       "5    2\n",
       "dtype: int64"
      ]
     },
     "metadata": {},
     "output_type": "display_data"
    }
   ],
   "source": [
    "#type II error Blue\n",
    "type_ii_error_blue.groupby('day').size()"
   ]
  },
  {
   "cell_type": "code",
   "execution_count": null,
   "metadata": {},
   "outputs": [
    {
     "data": {
      "text/plain": [
       "day\n",
       "2    5\n",
       "dtype: int64"
      ]
     },
     "metadata": {},
     "output_type": "display_data"
    }
   ],
   "source": [
    "#type II error Brown\n",
    "type_ii_error_brown.groupby('day').size()"
   ]
  },
  {
   "cell_type": "markdown",
   "metadata": {},
   "source": [
    "## QR Analysis"
   ]
  },
  {
   "cell_type": "code",
   "execution_count": 62,
   "metadata": {},
   "outputs": [
    {
     "data": {
      "text/html": [
       "<div>\n",
       "<style scoped>\n",
       "    .dataframe tbody tr th:only-of-type {\n",
       "        vertical-align: middle;\n",
       "    }\n",
       "\n",
       "    .dataframe tbody tr th {\n",
       "        vertical-align: top;\n",
       "    }\n",
       "\n",
       "    .dataframe thead th {\n",
       "        text-align: right;\n",
       "    }\n",
       "</style>\n",
       "<table border=\"1\" class=\"dataframe\">\n",
       "  <thead>\n",
       "    <tr style=\"text-align: right;\">\n",
       "      <th></th>\n",
       "      <th>time</th>\n",
       "      <th>predicted</th>\n",
       "      <th>real</th>\n",
       "      <th>person_thrown</th>\n",
       "      <th>qr_scanned</th>\n",
       "      <th>day</th>\n",
       "      <th>thrown_real</th>\n",
       "      <th>thrown_predited</th>\n",
       "      <th>predicted_real</th>\n",
       "      <th>pred_vs_thrown</th>\n",
       "      <th>real_vs_thrown</th>\n",
       "    </tr>\n",
       "  </thead>\n",
       "  <tbody>\n",
       "    <tr>\n",
       "      <th>32</th>\n",
       "      <td>19:17:31</td>\n",
       "      <td>yellow</td>\n",
       "      <td>yellow</td>\n",
       "      <td>yellow</td>\n",
       "      <td>2</td>\n",
       "      <td>2</td>\n",
       "      <td>1</td>\n",
       "      <td>1</td>\n",
       "      <td>1</td>\n",
       "      <td>1</td>\n",
       "      <td>1</td>\n",
       "    </tr>\n",
       "    <tr>\n",
       "      <th>46</th>\n",
       "      <td>15:13:16</td>\n",
       "      <td>blue</td>\n",
       "      <td>blue</td>\n",
       "      <td>blue</td>\n",
       "      <td>2</td>\n",
       "      <td>3</td>\n",
       "      <td>1</td>\n",
       "      <td>1</td>\n",
       "      <td>1</td>\n",
       "      <td>1</td>\n",
       "      <td>1</td>\n",
       "    </tr>\n",
       "  </tbody>\n",
       "</table>\n",
       "</div>"
      ],
      "text/plain": [
       "        time predicted    real person_thrown  qr_scanned  day  thrown_real  \\\n",
       "32  19:17:31    yellow  yellow        yellow           2    2            1   \n",
       "46  15:13:16      blue    blue          blue           2    3            1   \n",
       "\n",
       "    thrown_predited  predicted_real  pred_vs_thrown  real_vs_thrown  \n",
       "32                1               1               1               1  \n",
       "46                1               1               1               1  "
      ]
     },
     "execution_count": 62,
     "metadata": {},
     "output_type": "execute_result"
    }
   ],
   "source": [
    "#get items that qr is different from 0\n",
    "df_thrown[df_thrown['qr_scanned'] != 0]"
   ]
  },
  {
   "cell_type": "markdown",
   "metadata": {},
   "source": [
    "## Time analysis"
   ]
  },
  {
   "cell_type": "code",
   "execution_count": 63,
   "metadata": {},
   "outputs": [
    {
     "data": {
      "text/html": [
       "<div>\n",
       "<style scoped>\n",
       "    .dataframe tbody tr th:only-of-type {\n",
       "        vertical-align: middle;\n",
       "    }\n",
       "\n",
       "    .dataframe tbody tr th {\n",
       "        vertical-align: top;\n",
       "    }\n",
       "\n",
       "    .dataframe thead th {\n",
       "        text-align: right;\n",
       "    }\n",
       "</style>\n",
       "<table border=\"1\" class=\"dataframe\">\n",
       "  <thead>\n",
       "    <tr style=\"text-align: right;\">\n",
       "      <th></th>\n",
       "      <th>time</th>\n",
       "      <th>predicted</th>\n",
       "      <th>real</th>\n",
       "      <th>person_thrown</th>\n",
       "      <th>qr_scanned</th>\n",
       "      <th>day</th>\n",
       "      <th>thrown_real</th>\n",
       "      <th>thrown_predited</th>\n",
       "      <th>predicted_real</th>\n",
       "      <th>pred_vs_thrown</th>\n",
       "      <th>real_vs_thrown</th>\n",
       "    </tr>\n",
       "  </thead>\n",
       "  <tbody>\n",
       "    <tr>\n",
       "      <th>1</th>\n",
       "      <td>08:48:05</td>\n",
       "      <td>blue</td>\n",
       "      <td>blue</td>\n",
       "      <td>blue</td>\n",
       "      <td>0</td>\n",
       "      <td>1</td>\n",
       "      <td>1</td>\n",
       "      <td>1</td>\n",
       "      <td>1</td>\n",
       "      <td>1</td>\n",
       "      <td>1</td>\n",
       "    </tr>\n",
       "    <tr>\n",
       "      <th>2</th>\n",
       "      <td>08:55:42</td>\n",
       "      <td>blue</td>\n",
       "      <td>blue</td>\n",
       "      <td>blue</td>\n",
       "      <td>0</td>\n",
       "      <td>1</td>\n",
       "      <td>1</td>\n",
       "      <td>1</td>\n",
       "      <td>1</td>\n",
       "      <td>1</td>\n",
       "      <td>1</td>\n",
       "    </tr>\n",
       "    <tr>\n",
       "      <th>4</th>\n",
       "      <td>12:28:06</td>\n",
       "      <td>brown</td>\n",
       "      <td>brown</td>\n",
       "      <td>brown</td>\n",
       "      <td>0</td>\n",
       "      <td>1</td>\n",
       "      <td>1</td>\n",
       "      <td>1</td>\n",
       "      <td>1</td>\n",
       "      <td>1</td>\n",
       "      <td>1</td>\n",
       "    </tr>\n",
       "    <tr>\n",
       "      <th>6</th>\n",
       "      <td>13:26:29</td>\n",
       "      <td>yellow</td>\n",
       "      <td>yellow</td>\n",
       "      <td>yellow</td>\n",
       "      <td>0</td>\n",
       "      <td>1</td>\n",
       "      <td>1</td>\n",
       "      <td>1</td>\n",
       "      <td>1</td>\n",
       "      <td>1</td>\n",
       "      <td>1</td>\n",
       "    </tr>\n",
       "    <tr>\n",
       "      <th>7</th>\n",
       "      <td>13:27:03</td>\n",
       "      <td>yellow</td>\n",
       "      <td>yellow</td>\n",
       "      <td>blue</td>\n",
       "      <td>0</td>\n",
       "      <td>1</td>\n",
       "      <td>0</td>\n",
       "      <td>0</td>\n",
       "      <td>1</td>\n",
       "      <td>0</td>\n",
       "      <td>0</td>\n",
       "    </tr>\n",
       "    <tr>\n",
       "      <th>...</th>\n",
       "      <td>...</td>\n",
       "      <td>...</td>\n",
       "      <td>...</td>\n",
       "      <td>...</td>\n",
       "      <td>...</td>\n",
       "      <td>...</td>\n",
       "      <td>...</td>\n",
       "      <td>...</td>\n",
       "      <td>...</td>\n",
       "      <td>...</td>\n",
       "      <td>...</td>\n",
       "    </tr>\n",
       "    <tr>\n",
       "      <th>74</th>\n",
       "      <td>13:27:03</td>\n",
       "      <td>yellow</td>\n",
       "      <td>yellow</td>\n",
       "      <td>blue</td>\n",
       "      <td>0</td>\n",
       "      <td>5</td>\n",
       "      <td>0</td>\n",
       "      <td>0</td>\n",
       "      <td>1</td>\n",
       "      <td>0</td>\n",
       "      <td>0</td>\n",
       "    </tr>\n",
       "    <tr>\n",
       "      <th>75</th>\n",
       "      <td>13:27:13</td>\n",
       "      <td>yellow</td>\n",
       "      <td>yellow</td>\n",
       "      <td>blue</td>\n",
       "      <td>0</td>\n",
       "      <td>5</td>\n",
       "      <td>0</td>\n",
       "      <td>0</td>\n",
       "      <td>1</td>\n",
       "      <td>0</td>\n",
       "      <td>0</td>\n",
       "    </tr>\n",
       "    <tr>\n",
       "      <th>76</th>\n",
       "      <td>13:27:24</td>\n",
       "      <td>yellow</td>\n",
       "      <td>yellow</td>\n",
       "      <td>yellow</td>\n",
       "      <td>0</td>\n",
       "      <td>5</td>\n",
       "      <td>1</td>\n",
       "      <td>1</td>\n",
       "      <td>1</td>\n",
       "      <td>1</td>\n",
       "      <td>1</td>\n",
       "    </tr>\n",
       "    <tr>\n",
       "      <th>77</th>\n",
       "      <td>15:19:12</td>\n",
       "      <td>brown</td>\n",
       "      <td>yellow</td>\n",
       "      <td>brown</td>\n",
       "      <td>0</td>\n",
       "      <td>5</td>\n",
       "      <td>0</td>\n",
       "      <td>1</td>\n",
       "      <td>0</td>\n",
       "      <td>1</td>\n",
       "      <td>0</td>\n",
       "    </tr>\n",
       "    <tr>\n",
       "      <th>78</th>\n",
       "      <td>15:43:34</td>\n",
       "      <td>brown</td>\n",
       "      <td>brown</td>\n",
       "      <td>brown</td>\n",
       "      <td>0</td>\n",
       "      <td>5</td>\n",
       "      <td>1</td>\n",
       "      <td>1</td>\n",
       "      <td>1</td>\n",
       "      <td>1</td>\n",
       "      <td>1</td>\n",
       "    </tr>\n",
       "  </tbody>\n",
       "</table>\n",
       "<p>67 rows × 11 columns</p>\n",
       "</div>"
      ],
      "text/plain": [
       "        time predicted    real person_thrown  qr_scanned  day  thrown_real  \\\n",
       "1   08:48:05      blue    blue          blue           0    1            1   \n",
       "2   08:55:42      blue    blue          blue           0    1            1   \n",
       "4   12:28:06     brown   brown         brown           0    1            1   \n",
       "6   13:26:29    yellow  yellow        yellow           0    1            1   \n",
       "7   13:27:03    yellow  yellow          blue           0    1            0   \n",
       "..       ...       ...     ...           ...         ...  ...          ...   \n",
       "74  13:27:03    yellow  yellow          blue           0    5            0   \n",
       "75  13:27:13    yellow  yellow          blue           0    5            0   \n",
       "76  13:27:24    yellow  yellow        yellow           0    5            1   \n",
       "77  15:19:12     brown  yellow         brown           0    5            0   \n",
       "78  15:43:34     brown   brown         brown           0    5            1   \n",
       "\n",
       "    thrown_predited  predicted_real  pred_vs_thrown  real_vs_thrown  \n",
       "1                 1               1               1               1  \n",
       "2                 1               1               1               1  \n",
       "4                 1               1               1               1  \n",
       "6                 1               1               1               1  \n",
       "7                 0               1               0               0  \n",
       "..              ...             ...             ...             ...  \n",
       "74                0               1               0               0  \n",
       "75                0               1               0               0  \n",
       "76                1               1               1               1  \n",
       "77                1               0               1               0  \n",
       "78                1               1               1               1  \n",
       "\n",
       "[67 rows x 11 columns]"
      ]
     },
     "execution_count": 63,
     "metadata": {},
     "output_type": "execute_result"
    }
   ],
   "source": [
    "df_thrown"
   ]
  },
  {
   "cell_type": "code",
   "execution_count": 64,
   "metadata": {},
   "outputs": [],
   "source": [
    "time_dicc = {\n",
    "    8: \"08:00-09:00\",\n",
    "    9: \"09:00-10:00\",\n",
    "    10: \"10:00-11:00\",\n",
    "    11: \"11:00-12:00\",\n",
    "    12: \"12:00-13:00\",\n",
    "    13: \"13:00-14:00\",\n",
    "    14: \"14:00-15:00\",\n",
    "    15: \"15:00-16:00\",\n",
    "    16: \"16:00-17:00\",\n",
    "    17: \"17:00-18:00\",\n",
    "    18: \"18:00-19:00\",\n",
    "    19: \"19:00-20:00\",\n",
    "    20: \"20:00-21:00\"\n",
    "}"
   ]
  },
  {
   "cell_type": "code",
   "execution_count": 57,
   "metadata": {},
   "outputs": [],
   "source": [
    "# create a plot of time \n",
    "df_thrown['time'] = pd.to_datetime(df_thrown['time'])\n",
    "df_thrown['hour'] = df_thrown['time'].dt.hour\n",
    "df_thrown['period'] = df_thrown['hour'].map(time_dicc)\n",
    "#sort by period\n",
    "df_thrown = df_thrown.sort_values(by=['period'], ascending=True)"
   ]
  },
  {
   "cell_type": "code",
   "execution_count": 60,
   "metadata": {},
   "outputs": [
    {
     "name": "stderr",
     "output_type": "stream",
     "text": [
      "/tmp/ipykernel_19325/40748811.py:6: FutureWarning: \n",
      "\n",
      "Setting a gradient palette using color= is deprecated and will be removed in v0.14.0. Set `palette='dark:blue'` for the same effect.\n",
      "\n",
      "  sns.countplot(x='period', hue='day', data=df_thrown, color='blue')\n"
     ]
    },
    {
     "data": {
      "image/png": "[encoded data removed]",
      "text/plain": [
       "<Figure size 1500x800 with 1 Axes>"
      ]
     },
     "metadata": {},
     "output_type": "display_data"
    }
   ],
   "source": [
    "#graph with 5 lines one for each day showing the amount if items thrown each period\n",
    "import seaborn as sns\n",
    "import matplotlib.pyplot as plt\n",
    "sns.set(style=\"whitegrid\")\n",
    "plt.figure(figsize=(15, 8))\n",
    "sns.countplot(x='period', hue='day', data=df_thrown, color='blue')\n",
    "plt.xticks(rotation=45)\n",
    "plt.title('Items thrown each period')\n",
    "plt.show()"
   ]
  },
  {
   "cell_type": "markdown",
   "metadata": {},
   "source": [
    "## Density Analysis"
   ]
  },
  {
   "cell_type": "code",
   "execution_count": 203,
   "metadata": {},
   "outputs": [],
   "source": [
    "density_dicc = {\n",
    "    \"yellow\": 1,\n",
    "    \"blue\": 2,\n",
    "    \"brown\": 3\n",
    "}\n",
    "df_density = df_thrown[['person_thrown', 'period', 'day']]"
   ]
  },
  {
   "cell_type": "code",
   "execution_count": 204,
   "metadata": {},
   "outputs": [
    {
     "name": "stderr",
     "output_type": "stream",
     "text": [
      "/tmp/ipykernel_19325/4247695661.py:1: SettingWithCopyWarning: \n",
      "A value is trying to be set on a copy of a slice from a DataFrame.\n",
      "Try using .loc[row_indexer,col_indexer] = value instead\n",
      "\n",
      "See the caveats in the documentation: https://pandas.pydata.org/pandas-docs/stable/user_guide/indexing.html#returning-a-view-versus-a-copy\n",
      "  df_density[\"density\"] = df_density[\"person_thrown\"].map(density_dicc)\n"
     ]
    }
   ],
   "source": [
    "df_density[\"density\"] = df_density[\"person_thrown\"].map(density_dicc)"
   ]
  },
  {
   "cell_type": "code",
   "execution_count": 205,
   "metadata": {},
   "outputs": [],
   "source": [
    "# add 2 rows one for 9:00 to 10:00 and one for 10:00 to 11:00\n",
    "df_add = pd.DataFrame({'person_thrown': 'na', 'period': '09:00-10:00', 'day': 3, 'density': 3, 'blue_acc': 0, 'brown_acc': 0, 'yellow_acc': 0}, index=[0])\n",
    "df_add_2 = pd.DataFrame({'person_thrown': 'na', 'period': '10:00-11:00', 'day': 3, 'density': 3, 'blue_acc': 0, 'brown_acc': 0, 'yellow_acc': 0}, index=[0])\n",
    "df_add_3 = pd.DataFrame({'person_thrown': 'na', 'period': '08:00-09:00', 'day': 3, 'density': 3, 'blue_acc': 0, 'brown_acc': 0, 'yellow_acc': 0}, index=[0])\n",
    "df_density = pd.concat([df_density, df_add]).reset_index(drop=True)\n",
    "df_density = pd.concat([df_density, df_add_2]).reset_index(drop=True)\n",
    "df_density = pd.concat([df_density, df_add_3]).reset_index(drop=True)"
   ]
  },
  {
   "cell_type": "code",
   "execution_count": 206,
   "metadata": {},
   "outputs": [
    {
     "data": {
      "text/html": [
       "<div>\n",
       "<style scoped>\n",
       "    .dataframe tbody tr th:only-of-type {\n",
       "        vertical-align: middle;\n",
       "    }\n",
       "\n",
       "    .dataframe tbody tr th {\n",
       "        vertical-align: top;\n",
       "    }\n",
       "\n",
       "    .dataframe thead th {\n",
       "        text-align: right;\n",
       "    }\n",
       "</style>\n",
       "<table border=\"1\" class=\"dataframe\">\n",
       "  <thead>\n",
       "    <tr style=\"text-align: right;\">\n",
       "      <th></th>\n",
       "      <th>person_thrown</th>\n",
       "      <th>period</th>\n",
       "      <th>day</th>\n",
       "      <th>density</th>\n",
       "      <th>blue_acc</th>\n",
       "      <th>brown_acc</th>\n",
       "      <th>yellow_acc</th>\n",
       "    </tr>\n",
       "  </thead>\n",
       "  <tbody>\n",
       "    <tr>\n",
       "      <th>69</th>\n",
       "      <td>na</td>\n",
       "      <td>08:00-09:00</td>\n",
       "      <td>3</td>\n",
       "      <td>3</td>\n",
       "      <td>0.0</td>\n",
       "      <td>0.0</td>\n",
       "      <td>0.0</td>\n",
       "    </tr>\n",
       "    <tr>\n",
       "      <th>67</th>\n",
       "      <td>na</td>\n",
       "      <td>09:00-10:00</td>\n",
       "      <td>3</td>\n",
       "      <td>3</td>\n",
       "      <td>0.0</td>\n",
       "      <td>0.0</td>\n",
       "      <td>0.0</td>\n",
       "    </tr>\n",
       "    <tr>\n",
       "      <th>68</th>\n",
       "      <td>na</td>\n",
       "      <td>10:00-11:00</td>\n",
       "      <td>3</td>\n",
       "      <td>3</td>\n",
       "      <td>0.0</td>\n",
       "      <td>0.0</td>\n",
       "      <td>0.0</td>\n",
       "    </tr>\n",
       "    <tr>\n",
       "      <th>13</th>\n",
       "      <td>yellow</td>\n",
       "      <td>11:00-12:00</td>\n",
       "      <td>3</td>\n",
       "      <td>1</td>\n",
       "      <td>NaN</td>\n",
       "      <td>NaN</td>\n",
       "      <td>NaN</td>\n",
       "    </tr>\n",
       "    <tr>\n",
       "      <th>15</th>\n",
       "      <td>yellow</td>\n",
       "      <td>11:00-12:00</td>\n",
       "      <td>3</td>\n",
       "      <td>1</td>\n",
       "      <td>NaN</td>\n",
       "      <td>NaN</td>\n",
       "      <td>NaN</td>\n",
       "    </tr>\n",
       "    <tr>\n",
       "      <th>17</th>\n",
       "      <td>brown</td>\n",
       "      <td>11:00-12:00</td>\n",
       "      <td>3</td>\n",
       "      <td>3</td>\n",
       "      <td>NaN</td>\n",
       "      <td>NaN</td>\n",
       "      <td>NaN</td>\n",
       "    </tr>\n",
       "    <tr>\n",
       "      <th>18</th>\n",
       "      <td>blue</td>\n",
       "      <td>11:00-12:00</td>\n",
       "      <td>3</td>\n",
       "      <td>2</td>\n",
       "      <td>NaN</td>\n",
       "      <td>NaN</td>\n",
       "      <td>NaN</td>\n",
       "    </tr>\n",
       "    <tr>\n",
       "      <th>23</th>\n",
       "      <td>brown</td>\n",
       "      <td>11:00-12:00</td>\n",
       "      <td>3</td>\n",
       "      <td>3</td>\n",
       "      <td>NaN</td>\n",
       "      <td>NaN</td>\n",
       "      <td>NaN</td>\n",
       "    </tr>\n",
       "    <tr>\n",
       "      <th>24</th>\n",
       "      <td>brown</td>\n",
       "      <td>12:00-13:00</td>\n",
       "      <td>3</td>\n",
       "      <td>3</td>\n",
       "      <td>NaN</td>\n",
       "      <td>NaN</td>\n",
       "      <td>NaN</td>\n",
       "    </tr>\n",
       "    <tr>\n",
       "      <th>29</th>\n",
       "      <td>blue</td>\n",
       "      <td>12:00-13:00</td>\n",
       "      <td>3</td>\n",
       "      <td>2</td>\n",
       "      <td>NaN</td>\n",
       "      <td>NaN</td>\n",
       "      <td>NaN</td>\n",
       "    </tr>\n",
       "    <tr>\n",
       "      <th>41</th>\n",
       "      <td>blue</td>\n",
       "      <td>13:00-14:00</td>\n",
       "      <td>3</td>\n",
       "      <td>2</td>\n",
       "      <td>NaN</td>\n",
       "      <td>NaN</td>\n",
       "      <td>NaN</td>\n",
       "    </tr>\n",
       "    <tr>\n",
       "      <th>42</th>\n",
       "      <td>brown</td>\n",
       "      <td>13:00-14:00</td>\n",
       "      <td>3</td>\n",
       "      <td>3</td>\n",
       "      <td>NaN</td>\n",
       "      <td>NaN</td>\n",
       "      <td>NaN</td>\n",
       "    </tr>\n",
       "    <tr>\n",
       "      <th>49</th>\n",
       "      <td>blue</td>\n",
       "      <td>13:00-14:00</td>\n",
       "      <td>3</td>\n",
       "      <td>2</td>\n",
       "      <td>NaN</td>\n",
       "      <td>NaN</td>\n",
       "      <td>NaN</td>\n",
       "    </tr>\n",
       "    <tr>\n",
       "      <th>50</th>\n",
       "      <td>blue</td>\n",
       "      <td>13:00-14:00</td>\n",
       "      <td>3</td>\n",
       "      <td>2</td>\n",
       "      <td>NaN</td>\n",
       "      <td>NaN</td>\n",
       "      <td>NaN</td>\n",
       "    </tr>\n",
       "    <tr>\n",
       "      <th>51</th>\n",
       "      <td>yellow</td>\n",
       "      <td>14:00-15:00</td>\n",
       "      <td>3</td>\n",
       "      <td>1</td>\n",
       "      <td>NaN</td>\n",
       "      <td>NaN</td>\n",
       "      <td>NaN</td>\n",
       "    </tr>\n",
       "    <tr>\n",
       "      <th>52</th>\n",
       "      <td>yellow</td>\n",
       "      <td>14:00-15:00</td>\n",
       "      <td>3</td>\n",
       "      <td>1</td>\n",
       "      <td>NaN</td>\n",
       "      <td>NaN</td>\n",
       "      <td>NaN</td>\n",
       "    </tr>\n",
       "    <tr>\n",
       "      <th>59</th>\n",
       "      <td>blue</td>\n",
       "      <td>15:00-16:00</td>\n",
       "      <td>3</td>\n",
       "      <td>2</td>\n",
       "      <td>NaN</td>\n",
       "      <td>NaN</td>\n",
       "      <td>NaN</td>\n",
       "    </tr>\n",
       "    <tr>\n",
       "      <th>61</th>\n",
       "      <td>blue</td>\n",
       "      <td>16:00-17:00</td>\n",
       "      <td>3</td>\n",
       "      <td>2</td>\n",
       "      <td>NaN</td>\n",
       "      <td>NaN</td>\n",
       "      <td>NaN</td>\n",
       "    </tr>\n",
       "    <tr>\n",
       "      <th>64</th>\n",
       "      <td>yellow</td>\n",
       "      <td>16:00-17:00</td>\n",
       "      <td>3</td>\n",
       "      <td>1</td>\n",
       "      <td>NaN</td>\n",
       "      <td>NaN</td>\n",
       "      <td>NaN</td>\n",
       "    </tr>\n",
       "    <tr>\n",
       "      <th>65</th>\n",
       "      <td>blue</td>\n",
       "      <td>16:00-17:00</td>\n",
       "      <td>3</td>\n",
       "      <td>2</td>\n",
       "      <td>NaN</td>\n",
       "      <td>NaN</td>\n",
       "      <td>NaN</td>\n",
       "    </tr>\n",
       "  </tbody>\n",
       "</table>\n",
       "</div>"
      ],
      "text/plain": [
       "   person_thrown       period  day  density  blue_acc  brown_acc  yellow_acc\n",
       "69            na  08:00-09:00    3        3       0.0        0.0         0.0\n",
       "67            na  09:00-10:00    3        3       0.0        0.0         0.0\n",
       "68            na  10:00-11:00    3        3       0.0        0.0         0.0\n",
       "13        yellow  11:00-12:00    3        1       NaN        NaN         NaN\n",
       "15        yellow  11:00-12:00    3        1       NaN        NaN         NaN\n",
       "17         brown  11:00-12:00    3        3       NaN        NaN         NaN\n",
       "18          blue  11:00-12:00    3        2       NaN        NaN         NaN\n",
       "23         brown  11:00-12:00    3        3       NaN        NaN         NaN\n",
       "24         brown  12:00-13:00    3        3       NaN        NaN         NaN\n",
       "29          blue  12:00-13:00    3        2       NaN        NaN         NaN\n",
       "41          blue  13:00-14:00    3        2       NaN        NaN         NaN\n",
       "42         brown  13:00-14:00    3        3       NaN        NaN         NaN\n",
       "49          blue  13:00-14:00    3        2       NaN        NaN         NaN\n",
       "50          blue  13:00-14:00    3        2       NaN        NaN         NaN\n",
       "51        yellow  14:00-15:00    3        1       NaN        NaN         NaN\n",
       "52        yellow  14:00-15:00    3        1       NaN        NaN         NaN\n",
       "59          blue  15:00-16:00    3        2       NaN        NaN         NaN\n",
       "61          blue  16:00-17:00    3        2       NaN        NaN         NaN\n",
       "64        yellow  16:00-17:00    3        1       NaN        NaN         NaN\n",
       "65          blue  16:00-17:00    3        2       NaN        NaN         NaN"
      ]
     },
     "execution_count": 206,
     "metadata": {},
     "output_type": "execute_result"
    }
   ],
   "source": [
    "#sort by date and by period\n",
    "df_density = df_density.sort_values(by=['day', 'period'], ascending=True)\n",
    "df_density[df_density['day'] == 3]"
   ]
  },
  {
   "cell_type": "code",
   "execution_count": 207,
   "metadata": {},
   "outputs": [],
   "source": [
    "# create a column called \"blue acc\", which is 1 if the person thrown is blue and 0 otherwise\n",
    "df_density['blue_acc'] = np.where(df_density['person_thrown'] == 'blue', 1, 0)\n",
    "# new column called 'blue_acc_', which will be the acumulated sum of blue_acc of that day\n",
    "df_density['blue_acc'] = df_density.groupby('day')['blue_acc'].cumsum()"
   ]
  },
  {
   "cell_type": "code",
   "execution_count": 208,
   "metadata": {},
   "outputs": [],
   "source": [
    "# for brown\n",
    "df_density['brown_acc'] = np.where(df_density['person_thrown'] == 'brown', 1, 0)\n",
    "df_density['brown_acc'] = df_density.groupby('day')['brown_acc'].cumsum()\n"
   ]
  },
  {
   "cell_type": "code",
   "execution_count": 209,
   "metadata": {},
   "outputs": [],
   "source": [
    "# for yellow\n",
    "df_density['yellow_acc'] = np.where(df_density['person_thrown'] == 'yellow', 1, 0)\n",
    "df_density['yellow_acc'] = df_density.groupby('day')['yellow_acc'].cumsum()\n"
   ]
  },
  {
   "cell_type": "code",
   "execution_count": 210,
   "metadata": {},
   "outputs": [],
   "source": [
    "# multiply by density\n",
    "df_density['blue_acc'] = df_density['blue_acc'] \n",
    "df_density['brown_acc'] = df_density['brown_acc'] \n",
    "df_density['yellow_acc'] = df_density['yellow_acc'] "
   ]
  },
  {
   "cell_type": "code",
   "execution_count": 211,
   "metadata": {},
   "outputs": [
    {
     "data": {
      "text/html": [
       "<div>\n",
       "<style scoped>\n",
       "    .dataframe tbody tr th:only-of-type {\n",
       "        vertical-align: middle;\n",
       "    }\n",
       "\n",
       "    .dataframe tbody tr th {\n",
       "        vertical-align: top;\n",
       "    }\n",
       "\n",
       "    .dataframe thead th {\n",
       "        text-align: right;\n",
       "    }\n",
       "</style>\n",
       "<table border=\"1\" class=\"dataframe\">\n",
       "  <thead>\n",
       "    <tr style=\"text-align: right;\">\n",
       "      <th></th>\n",
       "      <th>person_thrown</th>\n",
       "      <th>period</th>\n",
       "      <th>day</th>\n",
       "      <th>density</th>\n",
       "      <th>blue_acc</th>\n",
       "      <th>brown_acc</th>\n",
       "      <th>yellow_acc</th>\n",
       "    </tr>\n",
       "  </thead>\n",
       "  <tbody>\n",
       "    <tr>\n",
       "      <th>69</th>\n",
       "      <td>na</td>\n",
       "      <td>08:00-09:00</td>\n",
       "      <td>3</td>\n",
       "      <td>3</td>\n",
       "      <td>0</td>\n",
       "      <td>0</td>\n",
       "      <td>0</td>\n",
       "    </tr>\n",
       "    <tr>\n",
       "      <th>67</th>\n",
       "      <td>na</td>\n",
       "      <td>09:00-10:00</td>\n",
       "      <td>3</td>\n",
       "      <td>3</td>\n",
       "      <td>0</td>\n",
       "      <td>0</td>\n",
       "      <td>0</td>\n",
       "    </tr>\n",
       "    <tr>\n",
       "      <th>68</th>\n",
       "      <td>na</td>\n",
       "      <td>10:00-11:00</td>\n",
       "      <td>3</td>\n",
       "      <td>3</td>\n",
       "      <td>0</td>\n",
       "      <td>0</td>\n",
       "      <td>0</td>\n",
       "    </tr>\n",
       "    <tr>\n",
       "      <th>13</th>\n",
       "      <td>yellow</td>\n",
       "      <td>11:00-12:00</td>\n",
       "      <td>3</td>\n",
       "      <td>1</td>\n",
       "      <td>0</td>\n",
       "      <td>0</td>\n",
       "      <td>1</td>\n",
       "    </tr>\n",
       "    <tr>\n",
       "      <th>15</th>\n",
       "      <td>yellow</td>\n",
       "      <td>11:00-12:00</td>\n",
       "      <td>3</td>\n",
       "      <td>1</td>\n",
       "      <td>0</td>\n",
       "      <td>0</td>\n",
       "      <td>2</td>\n",
       "    </tr>\n",
       "    <tr>\n",
       "      <th>17</th>\n",
       "      <td>brown</td>\n",
       "      <td>11:00-12:00</td>\n",
       "      <td>3</td>\n",
       "      <td>3</td>\n",
       "      <td>0</td>\n",
       "      <td>1</td>\n",
       "      <td>2</td>\n",
       "    </tr>\n",
       "    <tr>\n",
       "      <th>18</th>\n",
       "      <td>blue</td>\n",
       "      <td>11:00-12:00</td>\n",
       "      <td>3</td>\n",
       "      <td>2</td>\n",
       "      <td>1</td>\n",
       "      <td>1</td>\n",
       "      <td>2</td>\n",
       "    </tr>\n",
       "    <tr>\n",
       "      <th>23</th>\n",
       "      <td>brown</td>\n",
       "      <td>11:00-12:00</td>\n",
       "      <td>3</td>\n",
       "      <td>3</td>\n",
       "      <td>1</td>\n",
       "      <td>2</td>\n",
       "      <td>2</td>\n",
       "    </tr>\n",
       "    <tr>\n",
       "      <th>24</th>\n",
       "      <td>brown</td>\n",
       "      <td>12:00-13:00</td>\n",
       "      <td>3</td>\n",
       "      <td>3</td>\n",
       "      <td>1</td>\n",
       "      <td>3</td>\n",
       "      <td>2</td>\n",
       "    </tr>\n",
       "    <tr>\n",
       "      <th>29</th>\n",
       "      <td>blue</td>\n",
       "      <td>12:00-13:00</td>\n",
       "      <td>3</td>\n",
       "      <td>2</td>\n",
       "      <td>2</td>\n",
       "      <td>3</td>\n",
       "      <td>2</td>\n",
       "    </tr>\n",
       "    <tr>\n",
       "      <th>41</th>\n",
       "      <td>blue</td>\n",
       "      <td>13:00-14:00</td>\n",
       "      <td>3</td>\n",
       "      <td>2</td>\n",
       "      <td>3</td>\n",
       "      <td>3</td>\n",
       "      <td>2</td>\n",
       "    </tr>\n",
       "    <tr>\n",
       "      <th>42</th>\n",
       "      <td>brown</td>\n",
       "      <td>13:00-14:00</td>\n",
       "      <td>3</td>\n",
       "      <td>3</td>\n",
       "      <td>3</td>\n",
       "      <td>4</td>\n",
       "      <td>2</td>\n",
       "    </tr>\n",
       "    <tr>\n",
       "      <th>49</th>\n",
       "      <td>blue</td>\n",
       "      <td>13:00-14:00</td>\n",
       "      <td>3</td>\n",
       "      <td>2</td>\n",
       "      <td>4</td>\n",
       "      <td>4</td>\n",
       "      <td>2</td>\n",
       "    </tr>\n",
       "    <tr>\n",
       "      <th>50</th>\n",
       "      <td>blue</td>\n",
       "      <td>13:00-14:00</td>\n",
       "      <td>3</td>\n",
       "      <td>2</td>\n",
       "      <td>5</td>\n",
       "      <td>4</td>\n",
       "      <td>2</td>\n",
       "    </tr>\n",
       "    <tr>\n",
       "      <th>51</th>\n",
       "      <td>yellow</td>\n",
       "      <td>14:00-15:00</td>\n",
       "      <td>3</td>\n",
       "      <td>1</td>\n",
       "      <td>5</td>\n",
       "      <td>4</td>\n",
       "      <td>3</td>\n",
       "    </tr>\n",
       "    <tr>\n",
       "      <th>52</th>\n",
       "      <td>yellow</td>\n",
       "      <td>14:00-15:00</td>\n",
       "      <td>3</td>\n",
       "      <td>1</td>\n",
       "      <td>5</td>\n",
       "      <td>4</td>\n",
       "      <td>4</td>\n",
       "    </tr>\n",
       "    <tr>\n",
       "      <th>59</th>\n",
       "      <td>blue</td>\n",
       "      <td>15:00-16:00</td>\n",
       "      <td>3</td>\n",
       "      <td>2</td>\n",
       "      <td>6</td>\n",
       "      <td>4</td>\n",
       "      <td>4</td>\n",
       "    </tr>\n",
       "    <tr>\n",
       "      <th>61</th>\n",
       "      <td>blue</td>\n",
       "      <td>16:00-17:00</td>\n",
       "      <td>3</td>\n",
       "      <td>2</td>\n",
       "      <td>7</td>\n",
       "      <td>4</td>\n",
       "      <td>4</td>\n",
       "    </tr>\n",
       "    <tr>\n",
       "      <th>64</th>\n",
       "      <td>yellow</td>\n",
       "      <td>16:00-17:00</td>\n",
       "      <td>3</td>\n",
       "      <td>1</td>\n",
       "      <td>7</td>\n",
       "      <td>4</td>\n",
       "      <td>5</td>\n",
       "    </tr>\n",
       "    <tr>\n",
       "      <th>65</th>\n",
       "      <td>blue</td>\n",
       "      <td>16:00-17:00</td>\n",
       "      <td>3</td>\n",
       "      <td>2</td>\n",
       "      <td>8</td>\n",
       "      <td>4</td>\n",
       "      <td>5</td>\n",
       "    </tr>\n",
       "  </tbody>\n",
       "</table>\n",
       "</div>"
      ],
      "text/plain": [
       "   person_thrown       period  day  density  blue_acc  brown_acc  yellow_acc\n",
       "69            na  08:00-09:00    3        3         0          0           0\n",
       "67            na  09:00-10:00    3        3         0          0           0\n",
       "68            na  10:00-11:00    3        3         0          0           0\n",
       "13        yellow  11:00-12:00    3        1         0          0           1\n",
       "15        yellow  11:00-12:00    3        1         0          0           2\n",
       "17         brown  11:00-12:00    3        3         0          1           2\n",
       "18          blue  11:00-12:00    3        2         1          1           2\n",
       "23         brown  11:00-12:00    3        3         1          2           2\n",
       "24         brown  12:00-13:00    3        3         1          3           2\n",
       "29          blue  12:00-13:00    3        2         2          3           2\n",
       "41          blue  13:00-14:00    3        2         3          3           2\n",
       "42         brown  13:00-14:00    3        3         3          4           2\n",
       "49          blue  13:00-14:00    3        2         4          4           2\n",
       "50          blue  13:00-14:00    3        2         5          4           2\n",
       "51        yellow  14:00-15:00    3        1         5          4           3\n",
       "52        yellow  14:00-15:00    3        1         5          4           4\n",
       "59          blue  15:00-16:00    3        2         6          4           4\n",
       "61          blue  16:00-17:00    3        2         7          4           4\n",
       "64        yellow  16:00-17:00    3        1         7          4           5\n",
       "65          blue  16:00-17:00    3        2         8          4           5"
      ]
     },
     "execution_count": 211,
     "metadata": {},
     "output_type": "execute_result"
    }
   ],
   "source": [
    "# take items from day 3\n",
    "df_density[df_density['day'] == 3]"
   ]
  },
  {
   "cell_type": "code",
   "execution_count": 213,
   "metadata": {},
   "outputs": [
    {
     "data": {
      "image/png": "[encoded data removed]",
      "text/plain": [
       "<Figure size 1500x800 with 1 Axes>"
      ]
     },
     "metadata": {},
     "output_type": "display_data"
    }
   ],
   "source": [
    "# create a plot of blue_acc, yellow_acc, brown_acc for each period for day 3\n",
    "plt.figure(figsize=(15, 8))\n",
    "sns.lineplot(x='period', y='blue_acc', data=df_density[df_density['day'] == 3], color='blue')\n",
    "sns.lineplot(x='period', y='brown_acc', data=df_density[df_density['day'] == 3], color='brown')\n",
    "sns.lineplot(x='period', y='yellow_acc', data=df_density[df_density['day'] == 3], color='yellow')\n",
    "plt.xticks(rotation=45)\n",
    "#change name of y axis\n",
    "plt.ylabel('Items accumulated')\n",
    "#Create a threshold line in 10\n",
    "plt.axhline(y=10, color='r', linestyle='--')\n",
    "plt.title('Blue items accumulated each period for day 3')\n",
    "plt.show()\n"
   ]
  },
  {
   "cell_type": "markdown",
   "metadata": {},
   "source": [
    "# Sankey viz"
   ]
  },
  {
   "cell_type": "code",
   "execution_count": null,
   "metadata": {},
   "outputs": [],
   "source": []
  },
  {
   "cell_type": "code",
   "execution_count": 68,
   "metadata": {},
   "outputs": [],
   "source": [
    "sankey_df = df_thrown[[\"predicted\", \"real\", \"person_thrown\"]]"
   ]
  },
  {
   "cell_type": "code",
   "execution_count": 69,
   "metadata": {},
   "outputs": [
    {
     "name": "stdout",
     "output_type": "stream",
     "text": [
      "Requirement already satisfied: seaborn in /home/pablo/Escritorio/workinRemote/roboticslab/SIRS/.venv/lib/python3.10/site-packages (0.13.2)\n",
      "Requirement already satisfied: numpy!=1.24.0,>=1.20 in /home/pablo/Escritorio/workinRemote/roboticslab/SIRS/.venv/lib/python3.10/site-packages (from seaborn) (2.1.1)\n",
      "Requirement already satisfied: pandas>=1.2 in /home/pablo/Escritorio/workinRemote/roboticslab/SIRS/.venv/lib/python3.10/site-packages (from seaborn) (2.2.2)\n",
      "Requirement already satisfied: matplotlib!=3.6.1,>=3.4 in /home/pablo/Escritorio/workinRemote/roboticslab/SIRS/.venv/lib/python3.10/site-packages (from seaborn) (3.9.2)\n",
      "Requirement already satisfied: contourpy>=1.0.1 in /home/pablo/Escritorio/workinRemote/roboticslab/SIRS/.venv/lib/python3.10/site-packages (from matplotlib!=3.6.1,>=3.4->seaborn) (1.3.0)\n",
      "Requirement already satisfied: cycler>=0.10 in /home/pablo/Escritorio/workinRemote/roboticslab/SIRS/.venv/lib/python3.10/site-packages (from matplotlib!=3.6.1,>=3.4->seaborn) (0.12.1)\n",
      "Requirement already satisfied: fonttools>=4.22.0 in /home/pablo/Escritorio/workinRemote/roboticslab/SIRS/.venv/lib/python3.10/site-packages (from matplotlib!=3.6.1,>=3.4->seaborn) (4.53.1)\n",
      "Requirement already satisfied: kiwisolver>=1.3.1 in /home/pablo/Escritorio/workinRemote/roboticslab/SIRS/.venv/lib/python3.10/site-packages (from matplotlib!=3.6.1,>=3.4->seaborn) (1.4.7)\n",
      "Requirement already satisfied: packaging>=20.0 in /home/pablo/Escritorio/workinRemote/roboticslab/SIRS/.venv/lib/python3.10/site-packages (from matplotlib!=3.6.1,>=3.4->seaborn) (24.1)\n",
      "Requirement already satisfied: pillow>=8 in /home/pablo/Escritorio/workinRemote/roboticslab/SIRS/.venv/lib/python3.10/site-packages (from matplotlib!=3.6.1,>=3.4->seaborn) (10.4.0)\n",
      "Requirement already satisfied: pyparsing>=2.3.1 in /home/pablo/Escritorio/workinRemote/roboticslab/SIRS/.venv/lib/python3.10/site-packages (from matplotlib!=3.6.1,>=3.4->seaborn) (3.1.4)\n",
      "Requirement already satisfied: python-dateutil>=2.7 in /home/pablo/Escritorio/workinRemote/roboticslab/SIRS/.venv/lib/python3.10/site-packages (from matplotlib!=3.6.1,>=3.4->seaborn) (2.9.0.post0)\n",
      "Requirement already satisfied: pytz>=2020.1 in /home/pablo/Escritorio/workinRemote/roboticslab/SIRS/.venv/lib/python3.10/site-packages (from pandas>=1.2->seaborn) (2024.2)\n",
      "Requirement already satisfied: tzdata>=2022.7 in /home/pablo/Escritorio/workinRemote/roboticslab/SIRS/.venv/lib/python3.10/site-packages (from pandas>=1.2->seaborn) (2024.1)\n",
      "Requirement already satisfied: six>=1.5 in /home/pablo/Escritorio/workinRemote/roboticslab/SIRS/.venv/lib/python3.10/site-packages (from python-dateutil>=2.7->matplotlib!=3.6.1,>=3.4->seaborn) (1.16.0)\n"
     ]
    }
   ],
   "source": [
    "!pip install seaborn"
   ]
  },
  {
   "cell_type": "code",
   "execution_count": 12,
   "metadata": {},
   "outputs": [],
   "source": [
    "import pandas as pd\n",
    "import numpy as np\n",
    "import matplotlib.pyplot as plt\n",
    "\n",
    "# Import the sankey function from the sankey module within pySankey\n",
    "from pySankey.sankey import sankey"
   ]
  },
  {
   "cell_type": "code",
   "execution_count": 13,
   "metadata": {},
   "outputs": [
    {
     "data": {
      "text/plain": [
       "time             0.0\n",
       "predicted        0.0\n",
       "real             0.0\n",
       "person_thrown    0.0\n",
       "qr_scanned       0.0\n",
       "day              0.0\n",
       "dtype: float64"
      ]
     },
     "execution_count": 13,
     "metadata": {},
     "output_type": "execute_result"
    }
   ],
   "source": [
    "#null values in df\n",
    "df.isnull().mean()"
   ]
  },
  {
   "cell_type": "code",
   "execution_count": 14,
   "metadata": {},
   "outputs": [
    {
     "data": {
      "image/png": "[encoded data removed]",
      "text/plain": [
       "<Figure size 600x600 with 1 Axes>"
      ]
     },
     "metadata": {},
     "output_type": "display_data"
    }
   ],
   "source": [
    "colors = {\n",
    "    \"apple\": \"#f71b1b\",\n",
    "    \"blue\": \"#1b7ef7\",\n",
    "    \"yellow\": \"#f3f71b\",\n",
    "    \"lime\": \"#12e23f\",\n",
    "    \"brown\": \"#f78c1b\",\n",
    "    \"nonthrown\": \"#000000\",\n",
    "    \"nonclassified\": \"#000000\",\n",
    "}\n",
    "\n",
    "sankey(df[\"predicted\"], df[\"real\"], aspect=20, colorDict=colors, fontsize=12)"
   ]
  },
  {
   "cell_type": "code",
   "execution_count": 18,
   "metadata": {},
   "outputs": [
    {
     "data": {
      "image/png": "[encoded data removed]",
      "text/plain": [
       "<Figure size 600x600 with 1 Axes>"
      ]
     },
     "metadata": {},
     "output_type": "display_data"
    }
   ],
   "source": [
    "sankey(df[\"real\"], df[\"person_thrown\"], aspect=20, colorDict=colors, fontsize=12)"
   ]
  },
  {
   "cell_type": "markdown",
   "metadata": {},
   "source": [
    "## Pruena"
   ]
  },
  {
   "cell_type": "code",
   "execution_count": 21,
   "metadata": {},
   "outputs": [
    {
     "data": {
      "image/png": "[encoded data removed]",
      "text/plain": [
       "<Figure size 600x600 with 1 Axes>"
      ]
     },
     "metadata": {},
     "output_type": "display_data"
    }
   ],
   "source": [
    "sankey(df[\"real\"], df[\"predicted\"], aspect=20, colorDict=colors, fontsize=12)"
   ]
  },
  {
   "cell_type": "code",
   "execution_count": 20,
   "metadata": {},
   "outputs": [
    {
     "data": {
      "image/png": "[encoded data removed]",
      "text/plain": [
       "<Figure size 600x600 with 1 Axes>"
      ]
     },
     "metadata": {},
     "output_type": "display_data"
    }
   ],
   "source": [
    "sankey(df[\"predicted\"], df[\"person_thrown\"], aspect=20, colorDict=colors, fontsize=12)"
   ]
  },
  {
   "cell_type": "code",
   "execution_count": 26,
   "metadata": {},
   "outputs": [
    {
     "data": {
      "image/png": "[encoded data removed]",
      "text/plain": [
       "<Figure size 600x600 with 1 Axes>"
      ]
     },
     "metadata": {},
     "output_type": "display_data"
    }
   ],
   "source": [
    "sankey(df[\"person_thrown\"], df[\"predicted\"], aspect=20, colorDict=colors, fontsize=12)"
   ]
  }
 ],
 "metadata": {
  "kernelspec": {
   "display_name": ".venv",
   "language": "python",
   "name": "python3"
  },
  "language_info": {
   "codemirror_mode": {
    "name": "ipython",
    "version": 3
   },
   "file_extension": ".py",
   "mimetype": "text/x-python",
   "name": "python",
   "nbconvert_exporter": "python",
   "pygments_lexer": "ipython3",
   "version": "3.10.12"
  }
 },
 "nbformat": 4,
 "nbformat_minor": 2
}
